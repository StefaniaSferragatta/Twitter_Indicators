{
 "cells": [
  {
   "cell_type": "markdown",
   "source": [
    "# Libraries"
   ],
   "metadata": {
    "collapsed": false,
    "pycharm": {
     "name": "#%% md\n"
    }
   }
  },
  {
   "cell_type": "code",
   "execution_count": null,
   "outputs": [],
   "source": [],
   "metadata": {
    "collapsed": false,
    "pycharm": {
     "name": "#%%\n"
    }
   }
  },
  {
   "cell_type": "code",
   "execution_count": 1,
   "outputs": [],
   "source": [
    "import pandas as pd\n",
    "import pyarrow.parquet as pq\n",
    "from pathlib import Path\n",
    "from tqdm import tqdm\n",
    "import networkx as nx\n",
    "import networkx.algorithms.community as nx_comm\n",
    "from tsnmf import TSNMF\n",
    "from sklearn.feature_extraction.text import CountVectorizer"
   ],
   "metadata": {
    "collapsed": false,
    "pycharm": {
     "name": "#%%\n"
    }
   }
  },
  {
   "cell_type": "markdown",
   "metadata": {
    "collapsed": false,
    "pycharm": {
     "name": "#%% md\n"
    }
   },
   "source": [
    "# Importing data"
   ]
  },
  {
   "cell_type": "markdown",
   "source": [
    "We import the data in the `parquet` format. Specify below the correct path:"
   ],
   "metadata": {
    "collapsed": false,
    "pycharm": {
     "name": "#%% md\n"
    }
   }
  },
  {
   "cell_type": "code",
   "execution_count": 2,
   "metadata": {
    "collapsed": true,
    "pycharm": {
     "name": "#%%\n"
    }
   },
   "outputs": [],
   "source": [
    "path_to_parquet_data = Path('./data/infl-en-dde')"
   ]
  },
  {
   "cell_type": "code",
   "execution_count": 3,
   "metadata": {
    "collapsed": false,
    "pycharm": {
     "name": "#%%\n"
    }
   },
   "outputs": [],
   "source": [
    "df1 = pq.read_table(path_to_parquet_data / 'df1e.parquet').to_pandas()\n",
    "df2 = pq.read_table(path_to_parquet_data / 'df2e.parquet').to_pandas()\n",
    "df3 = pq.read_table(path_to_parquet_data / 'df3e.parquet').to_pandas()\n",
    "df4 = pq.read_table(path_to_parquet_data / 'df4e.parquet').to_pandas()\n",
    "df5 = pq.read_table(path_to_parquet_data / 'df5e.parquet').to_pandas()"
   ]
  },
  {
   "cell_type": "markdown",
   "metadata": {
    "collapsed": false,
    "pycharm": {
     "name": "#%% md\n"
    }
   },
   "source": [
    "# Filtering and joining"
   ]
  },
  {
   "cell_type": "markdown",
   "source": [
    "We filter out the retweets, and merge the `df1` dataframe with the `df4` (hashtags):"
   ],
   "metadata": {
    "collapsed": false,
    "pycharm": {
     "name": "#%% md\n"
    }
   }
  },
  {
   "cell_type": "code",
   "execution_count": 4,
   "metadata": {
    "collapsed": false,
    "pycharm": {
     "name": "#%%\n"
    }
   },
   "outputs": [],
   "source": [
    "no_retweets_mask = df1['retweetbody'].isnull()\n",
    "df1 = df1[no_retweets_mask]"
   ]
  },
  {
   "cell_type": "code",
   "execution_count": 5,
   "metadata": {
    "collapsed": false,
    "pycharm": {
     "name": "#%%\n"
    }
   },
   "outputs": [],
   "source": [
    "df1 = df1.merge(df4, how='left', left_on='id', right_on='id')"
   ]
  },
  {
   "cell_type": "code",
   "execution_count": 6,
   "metadata": {
    "collapsed": false,
    "pycharm": {
     "name": "#%%\n"
    }
   },
   "outputs": [
    {
     "data": {
      "text/plain": "                                                id  verb  \\\n0  tag:search.twitter.com,2005:1000121300550062080  post   \n1  tag:search.twitter.com,2005:1000138945731031040  post   \n2  tag:search.twitter.com,2005:1000149645920735232  post   \n3  tag:search.twitter.com,2005:1000562796646428673  post   \n4  tag:search.twitter.com,2005:1001436242440085504  post   \n\n                      userid inreplyto  \\\n0   id:twitter.com:507547334      None   \n1   id:twitter.com:223565922      None   \n2  id:twitter.com:1252224511      None   \n3   id:twitter.com:992334290      None   \n4    id:twitter.com:21130921      None   \n\n                                                link  \\\n0  http://twitter.com/Bill_Dykes/statuses/1000121...   \n1  http://twitter.com/SoPhillyFred/statuses/10001...   \n2  http://twitter.com/EnergyPhilFlynn/statuses/10...   \n3  http://twitter.com/JeanSwenson2/statuses/10005...   \n4  http://twitter.com/WFAE/statuses/1001436242440...   \n\n                                                body retweetbody    tweet_dt  \\\n0  Heading into the Memorial Day weekend those in...        None  2018-05-25   \n1  Retweeted Ron Paul (@RonPaul):\\n\\nInflation is...        None  2018-05-25   \n2  Oil prices fall on talk of hike in production,...        None  2018-05-25   \n3  Gas prices up 60 cents over a year ago.  And i...        None  2018-05-27   \n4  To Lower Your Medicare Drug Costs, Ask Your Ph...        None  2018-05-29   \n\n               postedtime_x  retweetcount  favoritescount           generator  \\\n0  2018-05-25T21:07:54.000Z             0             0.0            LinkedIn   \n1  2018-05-25T22:18:01.000Z             0             0.0            Facebook   \n2  2018-05-25T23:00:32.000Z             0             0.0  Twitter Web Client   \n3  2018-05-27T02:22:14.000Z             0             0.0  Twitter Web Client   \n4  2018-05-29T12:13:00.000Z             0             0.0              Buffer   \n\n  locationname locationcode       hashtag postedtime_y  \n0         None         None           NaN          NaN  \n1         None         None           NaN          NaN  \n2         None         None  GoogleAlerts   2018-05-25  \n3         None         None           NaN          NaN  \n4         None         None           NaN          NaN  ",
      "text/html": "<div>\n<style scoped>\n    .dataframe tbody tr th:only-of-type {\n        vertical-align: middle;\n    }\n\n    .dataframe tbody tr th {\n        vertical-align: top;\n    }\n\n    .dataframe thead th {\n        text-align: right;\n    }\n</style>\n<table border=\"1\" class=\"dataframe\">\n  <thead>\n    <tr style=\"text-align: right;\">\n      <th></th>\n      <th>id</th>\n      <th>verb</th>\n      <th>userid</th>\n      <th>inreplyto</th>\n      <th>link</th>\n      <th>body</th>\n      <th>retweetbody</th>\n      <th>tweet_dt</th>\n      <th>postedtime_x</th>\n      <th>retweetcount</th>\n      <th>favoritescount</th>\n      <th>generator</th>\n      <th>locationname</th>\n      <th>locationcode</th>\n      <th>hashtag</th>\n      <th>postedtime_y</th>\n    </tr>\n  </thead>\n  <tbody>\n    <tr>\n      <th>0</th>\n      <td>tag:search.twitter.com,2005:1000121300550062080</td>\n      <td>post</td>\n      <td>id:twitter.com:507547334</td>\n      <td>None</td>\n      <td>http://twitter.com/Bill_Dykes/statuses/1000121...</td>\n      <td>Heading into the Memorial Day weekend those in...</td>\n      <td>None</td>\n      <td>2018-05-25</td>\n      <td>2018-05-25T21:07:54.000Z</td>\n      <td>0</td>\n      <td>0.0</td>\n      <td>LinkedIn</td>\n      <td>None</td>\n      <td>None</td>\n      <td>NaN</td>\n      <td>NaN</td>\n    </tr>\n    <tr>\n      <th>1</th>\n      <td>tag:search.twitter.com,2005:1000138945731031040</td>\n      <td>post</td>\n      <td>id:twitter.com:223565922</td>\n      <td>None</td>\n      <td>http://twitter.com/SoPhillyFred/statuses/10001...</td>\n      <td>Retweeted Ron Paul (@RonPaul):\\n\\nInflation is...</td>\n      <td>None</td>\n      <td>2018-05-25</td>\n      <td>2018-05-25T22:18:01.000Z</td>\n      <td>0</td>\n      <td>0.0</td>\n      <td>Facebook</td>\n      <td>None</td>\n      <td>None</td>\n      <td>NaN</td>\n      <td>NaN</td>\n    </tr>\n    <tr>\n      <th>2</th>\n      <td>tag:search.twitter.com,2005:1000149645920735232</td>\n      <td>post</td>\n      <td>id:twitter.com:1252224511</td>\n      <td>None</td>\n      <td>http://twitter.com/EnergyPhilFlynn/statuses/10...</td>\n      <td>Oil prices fall on talk of hike in production,...</td>\n      <td>None</td>\n      <td>2018-05-25</td>\n      <td>2018-05-25T23:00:32.000Z</td>\n      <td>0</td>\n      <td>0.0</td>\n      <td>Twitter Web Client</td>\n      <td>None</td>\n      <td>None</td>\n      <td>GoogleAlerts</td>\n      <td>2018-05-25</td>\n    </tr>\n    <tr>\n      <th>3</th>\n      <td>tag:search.twitter.com,2005:1000562796646428673</td>\n      <td>post</td>\n      <td>id:twitter.com:992334290</td>\n      <td>None</td>\n      <td>http://twitter.com/JeanSwenson2/statuses/10005...</td>\n      <td>Gas prices up 60 cents over a year ago.  And i...</td>\n      <td>None</td>\n      <td>2018-05-27</td>\n      <td>2018-05-27T02:22:14.000Z</td>\n      <td>0</td>\n      <td>0.0</td>\n      <td>Twitter Web Client</td>\n      <td>None</td>\n      <td>None</td>\n      <td>NaN</td>\n      <td>NaN</td>\n    </tr>\n    <tr>\n      <th>4</th>\n      <td>tag:search.twitter.com,2005:1001436242440085504</td>\n      <td>post</td>\n      <td>id:twitter.com:21130921</td>\n      <td>None</td>\n      <td>http://twitter.com/WFAE/statuses/1001436242440...</td>\n      <td>To Lower Your Medicare Drug Costs, Ask Your Ph...</td>\n      <td>None</td>\n      <td>2018-05-29</td>\n      <td>2018-05-29T12:13:00.000Z</td>\n      <td>0</td>\n      <td>0.0</td>\n      <td>Buffer</td>\n      <td>None</td>\n      <td>None</td>\n      <td>NaN</td>\n      <td>NaN</td>\n    </tr>\n  </tbody>\n</table>\n</div>"
     },
     "execution_count": 6,
     "metadata": {},
     "output_type": "execute_result"
    }
   ],
   "source": [
    "df1.head()"
   ]
  },
  {
   "cell_type": "markdown",
   "metadata": {
    "collapsed": false,
    "pycharm": {
     "name": "#%% md\n"
    }
   },
   "source": [
    "# Data cleaning"
   ]
  },
  {
   "cell_type": "markdown",
   "source": [
    "## Cleaning & lemmatization"
   ],
   "metadata": {
    "collapsed": false,
    "pycharm": {
     "name": "#%% md\n"
    }
   }
  },
  {
   "cell_type": "markdown",
   "source": [
    "We preprocess the text data contained in the body of the tweets. The preprocessing comprises many steps, such as removing stop words, emojis and so on (read the `data_preprocessing` function in the `dde.preprocessing.cleaning` module):"
   ],
   "metadata": {
    "collapsed": false,
    "pycharm": {
     "name": "#%% md\n"
    }
   }
  },
  {
   "cell_type": "code",
   "execution_count": 7,
   "metadata": {
    "collapsed": false,
    "pycharm": {
     "name": "#%%\n"
    }
   },
   "outputs": [
    {
     "name": "stderr",
     "output_type": "stream",
     "text": [
      "100%|██████████| 961064/961064 [00:24<00:00, 39304.99it/s]\n"
     ]
    }
   ],
   "source": [
    "from dde.preprocessing.cleaning import data_preprocessing\n",
    "\n",
    "tqdm.pandas()\n",
    "\n",
    "df1_cleaned = df1.copy()\n",
    "df1_cleaned['body'] = df1['body'].progress_apply(lambda x: data_preprocessing(x))"
   ]
  },
  {
   "cell_type": "markdown",
   "metadata": {
    "collapsed": false,
    "pycharm": {
     "name": "#%% md\n"
    }
   },
   "source": [
    "After the cleaning we tokenize and lemmatize the body of the tweets, we will leverage the `lemmatize` function for this task (this section is commented out since it takes a lot of time):"
   ]
  },
  {
   "cell_type": "code",
   "execution_count": 8,
   "metadata": {
    "collapsed": false,
    "pycharm": {
     "name": "#%%\n"
    }
   },
   "outputs": [],
   "source": [
    "# from dde.preprocessing.nltk_processing import remove_stopwords, lemmatize\n",
    "# from tqdm import tqdm\n",
    "# tqdm.pandas()\n",
    "#\n",
    "# df1_lemmatized = df1_cleaned.copy()\n",
    "# # tokenize, lemmatize and remove the stopwords of the tweers\n",
    "# df1_lemmatized['body'] = df1_cleaned['body'].progress_apply(lambda x: lemmatize(x))\n",
    "# df1_lemmatized['body'] = df1_lemmatized['body'].progress_apply(lambda x: remove_stopwords(x))"
   ]
  },
  {
   "cell_type": "markdown",
   "metadata": {
    "collapsed": false,
    "pycharm": {
     "name": "#%% md\n"
    }
   },
   "source": [
    "Here we import the result of the process above:"
   ]
  },
  {
   "cell_type": "code",
   "execution_count": 9,
   "metadata": {
    "collapsed": false,
    "pycharm": {
     "name": "#%%\n"
    }
   },
   "outputs": [],
   "source": [
    "df1_lemmatized = pd.read_csv(\"data/tokenized_lemmatized_df1/df1_lemmatized.csv\", converters={\"body\": lambda x: x.strip(\"[]\").replace(\"'\",\"\").split(\", \")}, index_col=0)"
   ]
  },
  {
   "cell_type": "markdown",
   "metadata": {
    "collapsed": false,
    "pycharm": {
     "name": "#%% md\n"
    }
   },
   "source": [
    "## Remove bots"
   ]
  },
  {
   "cell_type": "markdown",
   "source": [
    "Here we remove the bots from `df1`, this is done leveraging the `generator` feature in `df1` (this section is commented out since it takes a lot of time) :"
   ],
   "metadata": {
    "collapsed": false,
    "pycharm": {
     "name": "#%% md\n"
    }
   }
  },
  {
   "cell_type": "code",
   "execution_count": 10,
   "outputs": [],
   "source": [
    "# generator = df1['generator'].unique()\n",
    "# for i in generator:\n",
    "#     print(i)\n",
    "\n",
    "# no_bot = ['Twitter Lite',\n",
    "#           'LinkedIn',\n",
    "#           'Facebook',\n",
    "#           'Twitter Web Client',\n",
    "#           'Twitter for iPhone',\n",
    "#           'Twitter for Android',\n",
    "#           'Buffer',\n",
    "#           'Twitter for iPad',\n",
    "#           'SocialFlow',\n",
    "#           'TweetDeck',\n",
    "#           'Twitterrific for iOS',\n",
    "#           'EconomicPoetry',\n",
    "#           'Instagram',\n",
    "#           'Google',\n",
    "#           'WordPress.com',\n",
    "#           'Twitter for Mac',\n",
    "#           'Tumblr',\n",
    "#           'Tweet Button',\n",
    "#           'iOS',\n",
    "#           'Adobe® Social',\n",
    "#           'OS X',\n",
    "#           'Twitter for Android',\n",
    "#           'Twittascope',\n",
    "#           'Twitter for Windows Phone',\n",
    "#           'Twitter for Advertisers']\n",
    "#\n",
    "# df1_noBot = df1_cleaned[df1_cleaned['generator'].isin(no_bot)]\n",
    "# df1_noBot.to_csv('/content/drive/MyDrive/Colab_TwitterIndicators/df1_NoBot.csv') #save the result in a csv file\n",
    "#\n",
    "# # FILTER THE OTHER DATASETS BASED ON THE NEW DF1\n",
    "# df2_noBot = df2[df2['id'].isin(df1_noBot['id'])]\n",
    "# df2_noBot.to_csv('/content/drive/MyDrive/Colab_TwitterIndicators/df2_NoBot.csv') #save the result in a csv file"
   ],
   "metadata": {
    "collapsed": false,
    "pycharm": {
     "name": "#%%\n"
    }
   }
  },
  {
   "cell_type": "markdown",
   "source": [
    "Here we import the result of the process above:"
   ],
   "metadata": {
    "collapsed": false,
    "pycharm": {
     "name": "#%% md\n"
    }
   }
  },
  {
   "cell_type": "code",
   "execution_count": 11,
   "outputs": [
    {
     "name": "stderr",
     "output_type": "stream",
     "text": [
      "/tmp/ipykernel_9049/3360411428.py:1: DtypeWarning: Columns (0,1,2,3,4,5,6,7,8,9,10,11,13,14,15,17,18) have mixed types. Specify dtype option on import or set low_memory=False.\n",
      "  df1_noBot = pd.read_csv('data/tokenized_lemmatized_df1/df1_NoBot.csv',  index_col=1)\n"
     ]
    }
   ],
   "source": [
    "df1_noBot = pd.read_csv('data/tokenized_lemmatized_df1/df1_NoBot.csv',  index_col=1)"
   ],
   "metadata": {
    "collapsed": false,
    "pycharm": {
     "name": "#%%\n"
    }
   }
  },
  {
   "cell_type": "code",
   "execution_count": 12,
   "outputs": [],
   "source": [
    "df1_Lemma_NoBot = df1_lemmatized[df1_lemmatized['id'].isin(df1_noBot['id'])]"
   ],
   "metadata": {
    "collapsed": false,
    "pycharm": {
     "name": "#%%\n"
    }
   }
  },
  {
   "cell_type": "code",
   "execution_count": 13,
   "outputs": [
    {
     "data": {
      "text/plain": "                                                id  verb  \\\n1  tag:search.twitter.com,2005:1000121300550062080  post   \n2  tag:search.twitter.com,2005:1000138945731031040  post   \n3  tag:search.twitter.com,2005:1000149645920735232  post   \n6  tag:search.twitter.com,2005:1000562796646428673  post   \n9  tag:search.twitter.com,2005:1001436242440085504  post   \n\n                      userid inreplyto  \\\n1   id:twitter.com:507547334       NaN   \n2   id:twitter.com:223565922       NaN   \n3  id:twitter.com:1252224511       NaN   \n6   id:twitter.com:992334290       NaN   \n9    id:twitter.com:21130921       NaN   \n\n                                                link  \\\n1  http://twitter.com/Bill_Dykes/statuses/1000121...   \n2  http://twitter.com/SoPhillyFred/statuses/10001...   \n3  http://twitter.com/EnergyPhilFlynn/statuses/10...   \n6  http://twitter.com/JeanSwenson2/statuses/10005...   \n9  http://twitter.com/WFAE/statuses/1001436242440...   \n\n                                                body  retweetbody    tweet_dt  \\\n1  [head, memorial, day, weekend, permian, basin,...          NaN  2018-05-25   \n2  [retweeted, ron, paul, ronpaul, vicious, tax, ...          NaN  2018-05-25   \n3  [oil, price, fall, talk, hike, production, rai...          NaN  2018-05-25   \n6  [gas, price, 60, cent, year, ago, make, americ...          NaN  2018-05-27   \n9  [lower, medicare, drug, cost, ask, pharmacist,...          NaN  2018-05-29   \n\n                 postedtime  retweetcount  favoritescount           generator  \\\n1  2018-05-25T21:07:54.000Z             0             0.0            LinkedIn   \n2  2018-05-25T22:18:01.000Z             0             0.0            Facebook   \n3  2018-05-25T23:00:32.000Z             0             0.0  Twitter Web Client   \n6  2018-05-27T02:22:14.000Z             0             0.0  Twitter Web Client   \n9  2018-05-29T12:13:00.000Z             0             0.0              Buffer   \n\n  locationname locationcode  \n1          NaN          NaN  \n2          NaN          NaN  \n3          NaN          NaN  \n6          NaN          NaN  \n9          NaN          NaN  ",
      "text/html": "<div>\n<style scoped>\n    .dataframe tbody tr th:only-of-type {\n        vertical-align: middle;\n    }\n\n    .dataframe tbody tr th {\n        vertical-align: top;\n    }\n\n    .dataframe thead th {\n        text-align: right;\n    }\n</style>\n<table border=\"1\" class=\"dataframe\">\n  <thead>\n    <tr style=\"text-align: right;\">\n      <th></th>\n      <th>id</th>\n      <th>verb</th>\n      <th>userid</th>\n      <th>inreplyto</th>\n      <th>link</th>\n      <th>body</th>\n      <th>retweetbody</th>\n      <th>tweet_dt</th>\n      <th>postedtime</th>\n      <th>retweetcount</th>\n      <th>favoritescount</th>\n      <th>generator</th>\n      <th>locationname</th>\n      <th>locationcode</th>\n    </tr>\n  </thead>\n  <tbody>\n    <tr>\n      <th>1</th>\n      <td>tag:search.twitter.com,2005:1000121300550062080</td>\n      <td>post</td>\n      <td>id:twitter.com:507547334</td>\n      <td>NaN</td>\n      <td>http://twitter.com/Bill_Dykes/statuses/1000121...</td>\n      <td>[head, memorial, day, weekend, permian, basin,...</td>\n      <td>NaN</td>\n      <td>2018-05-25</td>\n      <td>2018-05-25T21:07:54.000Z</td>\n      <td>0</td>\n      <td>0.0</td>\n      <td>LinkedIn</td>\n      <td>NaN</td>\n      <td>NaN</td>\n    </tr>\n    <tr>\n      <th>2</th>\n      <td>tag:search.twitter.com,2005:1000138945731031040</td>\n      <td>post</td>\n      <td>id:twitter.com:223565922</td>\n      <td>NaN</td>\n      <td>http://twitter.com/SoPhillyFred/statuses/10001...</td>\n      <td>[retweeted, ron, paul, ronpaul, vicious, tax, ...</td>\n      <td>NaN</td>\n      <td>2018-05-25</td>\n      <td>2018-05-25T22:18:01.000Z</td>\n      <td>0</td>\n      <td>0.0</td>\n      <td>Facebook</td>\n      <td>NaN</td>\n      <td>NaN</td>\n    </tr>\n    <tr>\n      <th>3</th>\n      <td>tag:search.twitter.com,2005:1000149645920735232</td>\n      <td>post</td>\n      <td>id:twitter.com:1252224511</td>\n      <td>NaN</td>\n      <td>http://twitter.com/EnergyPhilFlynn/statuses/10...</td>\n      <td>[oil, price, fall, talk, hike, production, rai...</td>\n      <td>NaN</td>\n      <td>2018-05-25</td>\n      <td>2018-05-25T23:00:32.000Z</td>\n      <td>0</td>\n      <td>0.0</td>\n      <td>Twitter Web Client</td>\n      <td>NaN</td>\n      <td>NaN</td>\n    </tr>\n    <tr>\n      <th>6</th>\n      <td>tag:search.twitter.com,2005:1000562796646428673</td>\n      <td>post</td>\n      <td>id:twitter.com:992334290</td>\n      <td>NaN</td>\n      <td>http://twitter.com/JeanSwenson2/statuses/10005...</td>\n      <td>[gas, price, 60, cent, year, ago, make, americ...</td>\n      <td>NaN</td>\n      <td>2018-05-27</td>\n      <td>2018-05-27T02:22:14.000Z</td>\n      <td>0</td>\n      <td>0.0</td>\n      <td>Twitter Web Client</td>\n      <td>NaN</td>\n      <td>NaN</td>\n    </tr>\n    <tr>\n      <th>9</th>\n      <td>tag:search.twitter.com,2005:1001436242440085504</td>\n      <td>post</td>\n      <td>id:twitter.com:21130921</td>\n      <td>NaN</td>\n      <td>http://twitter.com/WFAE/statuses/1001436242440...</td>\n      <td>[lower, medicare, drug, cost, ask, pharmacist,...</td>\n      <td>NaN</td>\n      <td>2018-05-29</td>\n      <td>2018-05-29T12:13:00.000Z</td>\n      <td>0</td>\n      <td>0.0</td>\n      <td>Buffer</td>\n      <td>NaN</td>\n      <td>NaN</td>\n    </tr>\n  </tbody>\n</table>\n</div>"
     },
     "execution_count": 13,
     "metadata": {},
     "output_type": "execute_result"
    }
   ],
   "source": [
    "df1_Lemma_NoBot.head()"
   ],
   "metadata": {
    "collapsed": false,
    "pycharm": {
     "name": "#%%\n"
    }
   }
  },
  {
   "cell_type": "code",
   "execution_count": 14,
   "outputs": [],
   "source": [
    "df1_lemmatized = df1_Lemma_NoBot.copy()"
   ],
   "metadata": {
    "collapsed": false,
    "pycharm": {
     "name": "#%%\n"
    }
   }
  },
  {
   "cell_type": "markdown",
   "source": [
    "## Divide professionals and 'man-on-the-street'"
   ],
   "metadata": {
    "collapsed": false,
    "pycharm": {
     "name": "#%% md\n"
    }
   }
  },
  {
   "cell_type": "markdown",
   "source": [
    "Here we divide the `df1` into professionals and man-on-the-street, this is done by clustering their user-bio trough K-means (this section is commented out since it takes a lot of time):"
   ],
   "metadata": {
    "collapsed": false,
    "pycharm": {
     "name": "#%% md\n"
    }
   }
  },
  {
   "cell_type": "code",
   "execution_count": 15,
   "outputs": [],
   "source": [
    "# #take only the twitter with the user bio\n",
    "# df2_Bio = df2_noBot['userBio'].notnull()\n",
    "# #filter the twitter according to the user bio, dividing them in professionals and men of the street\n",
    "# new_df2 = df2_noBot[df2_Bio]\n",
    "#\n",
    "# # TEXT CLUSTERING USING K MEANS ON THE USER BIO IN ORDER TO IDENTIFY THE TOPICS AND THEN 'CLASSIFY' THE USERS\n",
    "# from sklearn.feature_extraction.text import TfidfVectorizer\n",
    "# from sklearn.cluster import KMeans\n",
    "# from sklearn.metrics import silhouette_score\n",
    "#\n",
    "# documents = new_df2['userBio'].values.astype(\"U\")\n",
    "# vectorizer = TfidfVectorizer(stop_words='english')\n",
    "# features = vectorizer.fit_transform(documents)\n",
    "#\n",
    "# # CLUSTERING\n",
    "# k = 7 # best_k\n",
    "# model = KMeans(n_clusters=k, init='k-means++', max_iter=500, n_init=1,random_state=457)\n",
    "# model.fit(features)\n",
    "#\n",
    "# new_df2['cluster'] = model.labels_\n",
    "#\n",
    "# print(\"Cluster centroids: \\n\")\n",
    "# order_centroids = model.cluster_centers_.argsort()[:, ::-1]\n",
    "# terms = vectorizer.get_feature_names_out()\n",
    "#\n",
    "# for i in range(k):\n",
    "#     print(\"Cluster %d:\" % i)\n",
    "#     for j in order_centroids[i, :40]: #print out 30 feature terms of each cluster\n",
    "#         print (' %s' % terms[j])\n",
    "#     print('------------')\n",
    "#\n",
    "# #creation of the labels (0 = professionals , 1 = men of the street)\n",
    "# Label = {0 : 1, 1 : 1, 2 : 0 , 3 : 1, 4 : 0 , 5 : 0, 6 : 1}\n",
    "# new_df2['LABEL'] = new_df2['cluster'].map(Label)\n",
    "# new_df2.head()\n",
    "#\n",
    "# del new_df2['cluster']\n",
    "#\n",
    "# # count occurrences of 0 and 1\n",
    "# new_df2['LABEL'].value_counts(dropna=False)\n",
    "#\n",
    "# df_professionals = new_df2[new_df2.LABEL == 0]\n",
    "# df_men = new_df2[new_df2.LABEL == 1]\n",
    "#\n",
    "# del df_professionals['LABEL']\n",
    "# del df_professionals['Unnamed: 0']\n",
    "# df_professionals.to_csv('/content/drive/MyDrive/Colab_TwitterIndicators/df_professionals.csv')\n",
    "#\n",
    "# del df_men['LABEL']\n",
    "# del df_men['Unnamed: 0']\n",
    "# df_men.to_csv('/content/drive/MyDrive/Colab_TwitterIndicators/df_men.csv')"
   ],
   "metadata": {
    "collapsed": false,
    "pycharm": {
     "name": "#%%\n"
    }
   }
  },
  {
   "cell_type": "markdown",
   "metadata": {
    "pycharm": {
     "name": "#%% md\n"
    }
   },
   "source": [
    "# Building the hashtag graph"
   ]
  },
  {
   "cell_type": "markdown",
   "source": [
    "In this section we build the hashtag graph, the details of how this is done is explained in the slides."
   ],
   "metadata": {
    "collapsed": false,
    "pycharm": {
     "name": "#%% md\n"
    }
   }
  },
  {
   "cell_type": "markdown",
   "source": [
    "## Data preprocessing"
   ],
   "metadata": {
    "collapsed": false,
    "pycharm": {
     "name": "#%% md\n"
    }
   }
  },
  {
   "cell_type": "markdown",
   "source": [
    "We first preprocess the dataframe to build the graph:"
   ],
   "metadata": {
    "collapsed": false,
    "pycharm": {
     "name": "#%% md\n"
    }
   }
  },
  {
   "cell_type": "code",
   "execution_count": 16,
   "metadata": {
    "collapsed": false,
    "pycharm": {
     "name": "#%%\n"
    }
   },
   "outputs": [],
   "source": [
    "# dataset containing the tweets with the hashtags\n",
    "df1_hashtags = df1['hashtag'].dropna().apply(lambda x: x.lower())\n",
    "\n",
    "# filter the df1 based on the df with the hashtags\n",
    "df1_only_hashtags = df1.loc[df1_hashtags.index]\n",
    "df1_only_hashtags['hashtag'] = df1_only_hashtags['hashtag'].apply(lambda x: x.lower())\n",
    "\n",
    "# Put in a list all the hashtags in a tweet and take the unique id of the tweet. we do this in order to form the community \n",
    "df1_aggr = df1.copy()\n",
    "df1_aggr = df1_only_hashtags.groupby(['id'])[\n",
    "    ['hashtag']].agg(lambda x: list(x)).reset_index()"
   ]
  },
  {
   "cell_type": "markdown",
   "metadata": {
    "collapsed": false,
    "pycharm": {
     "name": "#%% md\n"
    }
   },
   "source": [
    "## Defining the graph"
   ]
  },
  {
   "cell_type": "code",
   "execution_count": 17,
   "metadata": {
    "collapsed": false,
    "pycharm": {
     "name": "#%%\n"
    }
   },
   "outputs": [
    {
     "data": {
      "text/plain": "<generator object isolates.<locals>.<genexpr> at 0x7fc135d39ee0>"
     },
     "execution_count": 17,
     "metadata": {},
     "output_type": "execute_result"
    }
   ],
   "source": [
    "from dde.topic_modeling.graph_functions import *\n",
    "\n",
    "G = nx.Graph()\n",
    "G.add_nodes_from(df1_hashtags.to_list())\n",
    "nx.isolates(G)"
   ]
  },
  {
   "cell_type": "code",
   "execution_count": 18,
   "metadata": {
    "collapsed": false,
    "pycharm": {
     "name": "#%%\n"
    }
   },
   "outputs": [],
   "source": [
    "add_edges_to_graph(df1_aggr,G)\n",
    "less_connected_comunities(G, threshold = 5)"
   ]
  },
  {
   "cell_type": "code",
   "execution_count": 19,
   "metadata": {
    "collapsed": false,
    "pycharm": {
     "name": "#%%\n"
    }
   },
   "outputs": [
    {
     "name": "stdout",
     "output_type": "stream",
     "text": [
      "2099\n",
      "4551\n"
     ]
    }
   ],
   "source": [
    "print(len(G.nodes))\n",
    "print(len(G.edges))"
   ]
  },
  {
   "cell_type": "markdown",
   "metadata": {
    "collapsed": false,
    "pycharm": {
     "name": "#%% md\n"
    }
   },
   "source": [
    "## Detecting the communities"
   ]
  },
  {
   "cell_type": "markdown",
   "source": [
    "Now we detect the communities in the graph by using the *Louvain method*:"
   ],
   "metadata": {
    "collapsed": false,
    "pycharm": {
     "name": "#%% md\n"
    }
   }
  },
  {
   "cell_type": "code",
   "execution_count": 20,
   "metadata": {
    "collapsed": false,
    "pycharm": {
     "name": "#%%\n"
    }
   },
   "outputs": [],
   "source": [
    "from dde.topic_modeling.graph_functions import *\n",
    "\n",
    "comm = nx_comm.louvain_communities(G, resolution=1, seed=123)\n",
    "\n",
    "# take only the communities that are larger than 5\n",
    "communities = [community for community in comm if len(community) > 5]"
   ]
  },
  {
   "cell_type": "markdown",
   "metadata": {
    "collapsed": false,
    "pycharm": {
     "name": "#%% md\n"
    }
   },
   "source": [
    "`labels` will be the matrix that contains the community identification for each tweet:"
   ]
  },
  {
   "cell_type": "code",
   "execution_count": 21,
   "metadata": {
    "pycharm": {
     "name": "#%%\n"
    }
   },
   "outputs": [],
   "source": [
    "labels = create_labels_matrix(df1_lemmatized, df1_aggr, communities)"
   ]
  },
  {
   "cell_type": "markdown",
   "metadata": {
    "collapsed": false,
    "pycharm": {
     "name": "#%% md\n"
    }
   },
   "source": [
    "# Topic modeling"
   ]
  },
  {
   "cell_type": "markdown",
   "source": [
    "In this final section we will infer the topics for the body of the tweets. We will use two methods: TSNMF and LDA."
   ],
   "metadata": {
    "collapsed": false,
    "pycharm": {
     "name": "#%% md\n"
    }
   }
  },
  {
   "cell_type": "markdown",
   "source": [
    "## Vectorization"
   ],
   "metadata": {
    "collapsed": false,
    "pycharm": {
     "name": "#%% md\n"
    }
   }
  },
  {
   "cell_type": "markdown",
   "source": [
    "We first prepare the data so that it can be processed by the topic modeling methods, in particular use an embedding by count vectors:"
   ],
   "metadata": {
    "collapsed": false,
    "pycharm": {
     "name": "#%% md\n"
    }
   }
  },
  {
   "cell_type": "code",
   "execution_count": 22,
   "outputs": [
    {
     "name": "stderr",
     "output_type": "stream",
     "text": [
      "100%|██████████| 536782/536782 [00:00<00:00, 887420.95it/s]\n"
     ]
    }
   ],
   "source": [
    "text_corpus = df1_lemmatized['body'].progress_apply(lambda x: ' '.join(x))"
   ],
   "metadata": {
    "collapsed": false,
    "pycharm": {
     "name": "#%%\n"
    }
   }
  },
  {
   "cell_type": "code",
   "execution_count": 23,
   "outputs": [],
   "source": [
    "complete_text_corpus = text_corpus.str.cat(sep=', ')"
   ],
   "metadata": {
    "collapsed": false,
    "pycharm": {
     "name": "#%%\n"
    }
   }
  },
  {
   "cell_type": "code",
   "execution_count": 24,
   "outputs": [
    {
     "data": {
      "text/plain": "CountVectorizer()",
      "text/html": "<style>#sk-container-id-1 {color: black;background-color: white;}#sk-container-id-1 pre{padding: 0;}#sk-container-id-1 div.sk-toggleable {background-color: white;}#sk-container-id-1 label.sk-toggleable__label {cursor: pointer;display: block;width: 100%;margin-bottom: 0;padding: 0.3em;box-sizing: border-box;text-align: center;}#sk-container-id-1 label.sk-toggleable__label-arrow:before {content: \"▸\";float: left;margin-right: 0.25em;color: #696969;}#sk-container-id-1 label.sk-toggleable__label-arrow:hover:before {color: black;}#sk-container-id-1 div.sk-estimator:hover label.sk-toggleable__label-arrow:before {color: black;}#sk-container-id-1 div.sk-toggleable__content {max-height: 0;max-width: 0;overflow: hidden;text-align: left;background-color: #f0f8ff;}#sk-container-id-1 div.sk-toggleable__content pre {margin: 0.2em;color: black;border-radius: 0.25em;background-color: #f0f8ff;}#sk-container-id-1 input.sk-toggleable__control:checked~div.sk-toggleable__content {max-height: 200px;max-width: 100%;overflow: auto;}#sk-container-id-1 input.sk-toggleable__control:checked~label.sk-toggleable__label-arrow:before {content: \"▾\";}#sk-container-id-1 div.sk-estimator input.sk-toggleable__control:checked~label.sk-toggleable__label {background-color: #d4ebff;}#sk-container-id-1 div.sk-label input.sk-toggleable__control:checked~label.sk-toggleable__label {background-color: #d4ebff;}#sk-container-id-1 input.sk-hidden--visually {border: 0;clip: rect(1px 1px 1px 1px);clip: rect(1px, 1px, 1px, 1px);height: 1px;margin: -1px;overflow: hidden;padding: 0;position: absolute;width: 1px;}#sk-container-id-1 div.sk-estimator {font-family: monospace;background-color: #f0f8ff;border: 1px dotted black;border-radius: 0.25em;box-sizing: border-box;margin-bottom: 0.5em;}#sk-container-id-1 div.sk-estimator:hover {background-color: #d4ebff;}#sk-container-id-1 div.sk-parallel-item::after {content: \"\";width: 100%;border-bottom: 1px solid gray;flex-grow: 1;}#sk-container-id-1 div.sk-label:hover label.sk-toggleable__label {background-color: #d4ebff;}#sk-container-id-1 div.sk-serial::before {content: \"\";position: absolute;border-left: 1px solid gray;box-sizing: border-box;top: 0;bottom: 0;left: 50%;z-index: 0;}#sk-container-id-1 div.sk-serial {display: flex;flex-direction: column;align-items: center;background-color: white;padding-right: 0.2em;padding-left: 0.2em;position: relative;}#sk-container-id-1 div.sk-item {position: relative;z-index: 1;}#sk-container-id-1 div.sk-parallel {display: flex;align-items: stretch;justify-content: center;background-color: white;position: relative;}#sk-container-id-1 div.sk-item::before, #sk-container-id-1 div.sk-parallel-item::before {content: \"\";position: absolute;border-left: 1px solid gray;box-sizing: border-box;top: 0;bottom: 0;left: 50%;z-index: -1;}#sk-container-id-1 div.sk-parallel-item {display: flex;flex-direction: column;z-index: 1;position: relative;background-color: white;}#sk-container-id-1 div.sk-parallel-item:first-child::after {align-self: flex-end;width: 50%;}#sk-container-id-1 div.sk-parallel-item:last-child::after {align-self: flex-start;width: 50%;}#sk-container-id-1 div.sk-parallel-item:only-child::after {width: 0;}#sk-container-id-1 div.sk-dashed-wrapped {border: 1px dashed gray;margin: 0 0.4em 0.5em 0.4em;box-sizing: border-box;padding-bottom: 0.4em;background-color: white;}#sk-container-id-1 div.sk-label label {font-family: monospace;font-weight: bold;display: inline-block;line-height: 1.2em;}#sk-container-id-1 div.sk-label-container {text-align: center;}#sk-container-id-1 div.sk-container {/* jupyter's `normalize.less` sets `[hidden] { display: none; }` but bootstrap.min.css set `[hidden] { display: none !important; }` so we also need the `!important` here to be able to override the default hidden behavior on the sphinx rendered scikit-learn.org. See: https://github.com/scikit-learn/scikit-learn/issues/21755 */display: inline-block !important;position: relative;}#sk-container-id-1 div.sk-text-repr-fallback {display: none;}</style><div id=\"sk-container-id-1\" class=\"sk-top-container\"><div class=\"sk-text-repr-fallback\"><pre>CountVectorizer()</pre><b>In a Jupyter environment, please rerun this cell to show the HTML representation or trust the notebook. <br />On GitHub, the HTML representation is unable to render, please try loading this page with nbviewer.org.</b></div><div class=\"sk-container\" hidden><div class=\"sk-item\"><div class=\"sk-estimator sk-toggleable\"><input class=\"sk-toggleable__control sk-hidden--visually\" id=\"sk-estimator-id-1\" type=\"checkbox\" checked><label for=\"sk-estimator-id-1\" class=\"sk-toggleable__label sk-toggleable__label-arrow\">CountVectorizer</label><div class=\"sk-toggleable__content\"><pre>CountVectorizer()</pre></div></div></div></div></div>"
     },
     "execution_count": 24,
     "metadata": {},
     "output_type": "execute_result"
    }
   ],
   "source": [
    "vectorizer = CountVectorizer()\n",
    "\n",
    "# text_corpus = ... here the full body of tweets ...\n",
    "vectorizer.fit(text_corpus)"
   ],
   "metadata": {
    "collapsed": false,
    "pycharm": {
     "name": "#%%\n"
    }
   }
  },
  {
   "cell_type": "code",
   "execution_count": 25,
   "outputs": [],
   "source": [
    "# X is the feature matrix it has number of rows equal to the number of tweets and columns equal to the features\n",
    "X = vectorizer.transform(text_corpus)"
   ],
   "metadata": {
    "collapsed": false,
    "pycharm": {
     "name": "#%%\n"
    }
   }
  },
  {
   "cell_type": "markdown",
   "metadata": {
    "pycharm": {
     "name": "#%% md\n"
    }
   },
   "source": [
    "## TSNMF"
   ]
  },
  {
   "cell_type": "code",
   "execution_count": 26,
   "outputs": [],
   "source": [
    "from dde.utilities import *"
   ],
   "metadata": {
    "collapsed": false,
    "pycharm": {
     "name": "#%%\n"
    }
   }
  },
  {
   "cell_type": "code",
   "execution_count": 27,
   "metadata": {
    "collapsed": false,
    "pycharm": {
     "name": "#%%\n"
    }
   },
   "outputs": [],
   "source": [
    "\n",
    "n_components = len(communities)\n",
    "tsnmf = TSNMF(n_components=n_components, random_state=1)\n",
    "W = tsnmf.fit(X, labels=labels) # document X topic_matrix\n",
    "H = tsnmf.components_"
   ]
  },
  {
   "cell_type": "markdown",
   "metadata": {
    "collapsed": false,
    "pycharm": {
     "name": "#%% md\n"
    }
   },
   "source": [
    "Below we plot the top 10 words for each topic, with their respective weight:"
   ]
  },
  {
   "cell_type": "code",
   "execution_count": 28,
   "metadata": {
    "collapsed": false,
    "pycharm": {
     "name": "#%%\n"
    }
   },
   "outputs": [],
   "source": [
    "feat_names = vectorizer.get_feature_names_out()\n",
    "n_top_words = 10\n",
    "# plot_top_words(tsnmf, feat_names, n_top_words, 'Topics')"
   ]
  },
  {
   "cell_type": "markdown",
   "metadata": {
    "pycharm": {
     "name": "#%% md\n"
    }
   },
   "source": [
    "## LDA"
   ]
  },
  {
   "cell_type": "code",
   "execution_count": 29,
   "metadata": {
    "collapsed": false,
    "pycharm": {
     "name": "#%%\n"
    }
   },
   "outputs": [
    {
     "name": "stderr",
     "output_type": "stream",
     "text": [
      "[Parallel(n_jobs=12)]: Using backend LokyBackend with 12 concurrent workers.\n",
      "[Parallel(n_jobs=12)]: Done   1 tasks      | elapsed:   16.9s\n",
      "[Parallel(n_jobs=12)]: Done   4 out of  12 | elapsed:   20.0s remaining:   40.0s\n",
      "[Parallel(n_jobs=12)]: Done   7 out of  12 | elapsed:   22.9s remaining:   16.4s\n",
      "[Parallel(n_jobs=12)]: Done  10 out of  12 | elapsed:   24.0s remaining:    4.8s\n",
      "[Parallel(n_jobs=12)]: Done  12 out of  12 | elapsed:   25.2s finished\n"
     ]
    },
    {
     "name": "stdout",
     "output_type": "stream",
     "text": [
      "iteration: 1 of max_iter: 10\n"
     ]
    },
    {
     "name": "stderr",
     "output_type": "stream",
     "text": [
      "[Parallel(n_jobs=12)]: Using backend LokyBackend with 12 concurrent workers.\n",
      "[Parallel(n_jobs=12)]: Done   1 tasks      | elapsed:   12.2s\n",
      "[Parallel(n_jobs=12)]: Done   4 out of  12 | elapsed:   14.0s remaining:   28.1s\n",
      "[Parallel(n_jobs=12)]: Done   7 out of  12 | elapsed:   16.8s remaining:   12.0s\n",
      "[Parallel(n_jobs=12)]: Done  10 out of  12 | elapsed:   17.5s remaining:    3.5s\n",
      "[Parallel(n_jobs=12)]: Done  12 out of  12 | elapsed:   17.8s finished\n"
     ]
    },
    {
     "name": "stdout",
     "output_type": "stream",
     "text": [
      "iteration: 2 of max_iter: 10\n"
     ]
    },
    {
     "name": "stderr",
     "output_type": "stream",
     "text": [
      "[Parallel(n_jobs=12)]: Using backend LokyBackend with 12 concurrent workers.\n",
      "[Parallel(n_jobs=12)]: Done   1 tasks      | elapsed:   11.8s\n",
      "[Parallel(n_jobs=12)]: Done   4 out of  12 | elapsed:   14.1s remaining:   28.1s\n",
      "[Parallel(n_jobs=12)]: Done   7 out of  12 | elapsed:   16.9s remaining:   12.1s\n",
      "[Parallel(n_jobs=12)]: Done  10 out of  12 | elapsed:   17.4s remaining:    3.5s\n",
      "[Parallel(n_jobs=12)]: Done  12 out of  12 | elapsed:   18.1s finished\n"
     ]
    },
    {
     "name": "stdout",
     "output_type": "stream",
     "text": [
      "iteration: 3 of max_iter: 10\n"
     ]
    },
    {
     "name": "stderr",
     "output_type": "stream",
     "text": [
      "[Parallel(n_jobs=12)]: Using backend LokyBackend with 12 concurrent workers.\n",
      "[Parallel(n_jobs=12)]: Done   1 tasks      | elapsed:   12.5s\n",
      "[Parallel(n_jobs=12)]: Done   4 out of  12 | elapsed:   14.7s remaining:   29.5s\n",
      "[Parallel(n_jobs=12)]: Done   7 out of  12 | elapsed:   15.6s remaining:   11.1s\n",
      "[Parallel(n_jobs=12)]: Done  10 out of  12 | elapsed:   17.0s remaining:    3.4s\n",
      "[Parallel(n_jobs=12)]: Done  12 out of  12 | elapsed:   17.8s finished\n"
     ]
    },
    {
     "name": "stdout",
     "output_type": "stream",
     "text": [
      "iteration: 4 of max_iter: 10\n"
     ]
    },
    {
     "name": "stderr",
     "output_type": "stream",
     "text": [
      "[Parallel(n_jobs=12)]: Using backend LokyBackend with 12 concurrent workers.\n",
      "[Parallel(n_jobs=12)]: Done   1 tasks      | elapsed:   10.8s\n",
      "[Parallel(n_jobs=12)]: Done   4 out of  12 | elapsed:   11.9s remaining:   23.7s\n",
      "[Parallel(n_jobs=12)]: Done   7 out of  12 | elapsed:   15.5s remaining:   11.1s\n",
      "[Parallel(n_jobs=12)]: Done  10 out of  12 | elapsed:   15.9s remaining:    3.2s\n",
      "[Parallel(n_jobs=12)]: Done  12 out of  12 | elapsed:   16.2s finished\n"
     ]
    },
    {
     "name": "stdout",
     "output_type": "stream",
     "text": [
      "iteration: 5 of max_iter: 10\n"
     ]
    },
    {
     "name": "stderr",
     "output_type": "stream",
     "text": [
      "[Parallel(n_jobs=12)]: Using backend LokyBackend with 12 concurrent workers.\n",
      "[Parallel(n_jobs=12)]: Done   1 tasks      | elapsed:   11.2s\n",
      "[Parallel(n_jobs=12)]: Done   4 out of  12 | elapsed:   13.2s remaining:   26.4s\n",
      "[Parallel(n_jobs=12)]: Done   7 out of  12 | elapsed:   14.2s remaining:   10.1s\n",
      "[Parallel(n_jobs=12)]: Done  10 out of  12 | elapsed:   15.4s remaining:    3.1s\n",
      "[Parallel(n_jobs=12)]: Done  12 out of  12 | elapsed:   15.9s finished\n"
     ]
    },
    {
     "name": "stdout",
     "output_type": "stream",
     "text": [
      "iteration: 6 of max_iter: 10\n"
     ]
    },
    {
     "name": "stderr",
     "output_type": "stream",
     "text": [
      "[Parallel(n_jobs=12)]: Using backend LokyBackend with 12 concurrent workers.\n",
      "[Parallel(n_jobs=12)]: Done   1 tasks      | elapsed:    9.6s\n",
      "[Parallel(n_jobs=12)]: Done   4 out of  12 | elapsed:   12.5s remaining:   25.0s\n",
      "[Parallel(n_jobs=12)]: Done   7 out of  12 | elapsed:   14.2s remaining:   10.1s\n",
      "[Parallel(n_jobs=12)]: Done  10 out of  12 | elapsed:   15.0s remaining:    3.0s\n",
      "[Parallel(n_jobs=12)]: Done  12 out of  12 | elapsed:   15.4s finished\n"
     ]
    },
    {
     "name": "stdout",
     "output_type": "stream",
     "text": [
      "iteration: 7 of max_iter: 10\n"
     ]
    },
    {
     "name": "stderr",
     "output_type": "stream",
     "text": [
      "[Parallel(n_jobs=12)]: Using backend LokyBackend with 12 concurrent workers.\n",
      "[Parallel(n_jobs=12)]: Done   1 tasks      | elapsed:    9.6s\n",
      "[Parallel(n_jobs=12)]: Done   4 out of  12 | elapsed:   11.4s remaining:   22.8s\n",
      "[Parallel(n_jobs=12)]: Done   7 out of  12 | elapsed:   13.4s remaining:    9.5s\n",
      "[Parallel(n_jobs=12)]: Done  10 out of  12 | elapsed:   13.9s remaining:    2.8s\n",
      "[Parallel(n_jobs=12)]: Done  12 out of  12 | elapsed:   14.4s finished\n"
     ]
    },
    {
     "name": "stdout",
     "output_type": "stream",
     "text": [
      "iteration: 8 of max_iter: 10\n"
     ]
    },
    {
     "name": "stderr",
     "output_type": "stream",
     "text": [
      "[Parallel(n_jobs=12)]: Using backend LokyBackend with 12 concurrent workers.\n",
      "[Parallel(n_jobs=12)]: Done   1 tasks      | elapsed:    9.4s\n",
      "[Parallel(n_jobs=12)]: Done   4 out of  12 | elapsed:   10.2s remaining:   20.4s\n",
      "[Parallel(n_jobs=12)]: Done   7 out of  12 | elapsed:   13.8s remaining:    9.8s\n",
      "[Parallel(n_jobs=12)]: Done  10 out of  12 | elapsed:   14.2s remaining:    2.8s\n",
      "[Parallel(n_jobs=12)]: Done  12 out of  12 | elapsed:   14.4s finished\n"
     ]
    },
    {
     "name": "stdout",
     "output_type": "stream",
     "text": [
      "iteration: 9 of max_iter: 10\n"
     ]
    },
    {
     "name": "stderr",
     "output_type": "stream",
     "text": [
      "[Parallel(n_jobs=12)]: Using backend LokyBackend with 12 concurrent workers.\n",
      "[Parallel(n_jobs=12)]: Done   1 tasks      | elapsed:    8.9s\n",
      "[Parallel(n_jobs=12)]: Done   4 out of  12 | elapsed:    9.4s remaining:   18.9s\n",
      "[Parallel(n_jobs=12)]: Done   7 out of  12 | elapsed:   13.1s remaining:    9.4s\n",
      "[Parallel(n_jobs=12)]: Done  10 out of  12 | elapsed:   13.6s remaining:    2.7s\n",
      "[Parallel(n_jobs=12)]: Done  12 out of  12 | elapsed:   13.9s finished\n"
     ]
    },
    {
     "name": "stdout",
     "output_type": "stream",
     "text": [
      "iteration: 10 of max_iter: 10\n"
     ]
    },
    {
     "name": "stderr",
     "output_type": "stream",
     "text": [
      "[Parallel(n_jobs=12)]: Using backend LokyBackend with 12 concurrent workers.\n",
      "[Parallel(n_jobs=12)]: Done   1 tasks      | elapsed:    8.2s\n",
      "[Parallel(n_jobs=12)]: Done   4 out of  12 | elapsed:    8.7s remaining:   17.4s\n",
      "[Parallel(n_jobs=12)]: Done   7 out of  12 | elapsed:   10.7s remaining:    7.6s\n",
      "[Parallel(n_jobs=12)]: Done  10 out of  12 | elapsed:   10.9s remaining:    2.2s\n",
      "[Parallel(n_jobs=12)]: Done  12 out of  12 | elapsed:   11.0s finished\n"
     ]
    }
   ],
   "source": [
    "from sklearn.decomposition import LatentDirichletAllocation\n",
    "\n",
    "lda = LatentDirichletAllocation(n_components = n_components,\n",
    "                                random_state=1,\n",
    "                                verbose=7,\n",
    "                                n_jobs=12)\n",
    "\n",
    "res_lda = lda.fit(X)"
   ]
  },
  {
   "cell_type": "code",
   "execution_count": 30,
   "metadata": {
    "collapsed": false,
    "pycharm": {
     "name": "#%%\n"
    }
   },
   "outputs": [],
   "source": [
    "feat_names = vectorizer.get_feature_names_out()\n",
    "n_top_words = 10\n",
    "# plot_top_words(res_lda, feat_names, n_top_words, 'Topics')"
   ]
  },
  {
   "cell_type": "markdown",
   "source": [
    "## Inference"
   ],
   "metadata": {
    "collapsed": false,
    "pycharm": {
     "name": "#%% md\n"
    }
   }
  },
  {
   "cell_type": "code",
   "execution_count": 31,
   "outputs": [],
   "source": [
    "from dde.topic_modeling.topic_modeling_functions import add_topic_label, filter_by_topic"
   ],
   "metadata": {
    "collapsed": false,
    "pycharm": {
     "name": "#%%\n"
    }
   }
  },
  {
   "cell_type": "code",
   "execution_count": 32,
   "outputs": [
    {
     "name": "stderr",
     "output_type": "stream",
     "text": [
      "[Parallel(n_jobs=12)]: Using backend LokyBackend with 12 concurrent workers.\n",
      "[Parallel(n_jobs=12)]: Done   1 tasks      | elapsed:    6.4s\n",
      "[Parallel(n_jobs=12)]: Done   4 out of  12 | elapsed:    6.9s remaining:   13.7s\n",
      "[Parallel(n_jobs=12)]: Done   7 out of  12 | elapsed:    9.7s remaining:    6.9s\n",
      "[Parallel(n_jobs=12)]: Done  10 out of  12 | elapsed:    9.7s remaining:    1.9s\n",
      "[Parallel(n_jobs=12)]: Done  12 out of  12 | elapsed:    9.9s finished\n"
     ]
    }
   ],
   "source": [
    "lda_topic_matrix = lda.transform(X)\n",
    "df1_topic = add_topic_label(lda_topic_matrix, df1_lemmatized)"
   ],
   "metadata": {
    "collapsed": false,
    "pycharm": {
     "name": "#%%\n"
    }
   }
  },
  {
   "cell_type": "markdown",
   "metadata": {
    "collapsed": false,
    "pycharm": {
     "name": "#%% md\n"
    }
   },
   "source": [
    "## WordClouds"
   ]
  },
  {
   "cell_type": "markdown",
   "source": [
    "Finally let's print some word clouds, to get a grasp of the topics"
   ],
   "metadata": {
    "collapsed": false,
    "pycharm": {
     "name": "#%% md\n"
    }
   }
  },
  {
   "cell_type": "code",
   "execution_count": 33,
   "metadata": {
    "collapsed": false,
    "pycharm": {
     "name": "#%%\n"
    }
   },
   "outputs": [],
   "source": [
    "feat_names = vectorizer.get_feature_names_out()\n",
    "model = lda"
   ]
  },
  {
   "cell_type": "code",
   "execution_count": 34,
   "metadata": {
    "collapsed": false,
    "pycharm": {
     "name": "#%%\n"
    }
   },
   "outputs": [
    {
     "data": {
      "text/plain": "<Figure size 576x576 with 1 Axes>",
      "image/png": "[encoded data removed]"
     },
     "metadata": {
      "needs_background": "light"
     },
     "output_type": "display_data"
    }
   ],
   "source": [
    "for i in get_weighted_words_topic(model, feat_names, n_top_words = 20):\n",
    "    plot_word_cloud(i)\n",
    "    break"
   ]
  },
  {
   "cell_type": "markdown",
   "metadata": {
    "pycharm": {
     "name": "#%% md\n"
    }
   },
   "source": [
    "# Saving the topics\n"
   ]
  },
  {
   "cell_type": "markdown",
   "source": [
    "From all the topics we select the ones listed below (manually selected) with their respective index:\n",
    "\n",
    "* 2.0 : Inflation\n",
    "* 12.0 : Financial market, trading\n",
    "* 18.0 : Oil / Energy\n",
    "* 26.0 : Bitcoin\n",
    "* 30.0 : Real Estate"
   ],
   "metadata": {
    "collapsed": false,
    "pycharm": {
     "name": "#%% md\n"
    }
   }
  },
  {
   "cell_type": "markdown",
   "source": [
    "Now to generate the topic specific dataframes, we first import back the *professionals* and *man-on-the-streets* dataframes and use them to filter each topic specific dataframe."
   ],
   "metadata": {
    "collapsed": false,
    "pycharm": {
     "name": "#%% md\n"
    }
   }
  },
  {
   "cell_type": "code",
   "execution_count": 35,
   "outputs": [
    {
     "name": "stderr",
     "output_type": "stream",
     "text": [
      "/tmp/ipykernel_9049/3619939761.py:1: DtypeWarning: Columns (0,1,2,3,4,5,6,7,8,9,10,11,12,13,14,15,16,20,26,31) have mixed types. Specify dtype option on import or set low_memory=False.\n",
      "  df_men = pd.read_csv('data/tokenized_lemmatized_df1/df_men.csv', index_col=0)\n",
      "/tmp/ipykernel_9049/3619939761.py:2: DtypeWarning: Columns (0,6,7,8,10,20,26) have mixed types. Specify dtype option on import or set low_memory=False.\n",
      "  df_professionals = pd.read_csv('data/tokenized_lemmatized_df1/df_professionals.csv', index_col=0)\n"
     ]
    }
   ],
   "source": [
    "df_men = pd.read_csv('data/tokenized_lemmatized_df1/df_men.csv', index_col=0)\n",
    "df_professionals = pd.read_csv('data/tokenized_lemmatized_df1/df_professionals.csv', index_col=0)"
   ],
   "metadata": {
    "collapsed": false,
    "pycharm": {
     "name": "#%%\n"
    }
   }
  },
  {
   "cell_type": "code",
   "execution_count": 36,
   "outputs": [],
   "source": [
    "df_lemmatized_men = df1_lemmatized[df1_lemmatized['id'].isin(df_men['id'])]\n",
    "df_lemmatized_professionals = df1_lemmatized[df1_lemmatized['id'].isin(df_professionals['id'])]"
   ],
   "metadata": {
    "collapsed": false,
    "pycharm": {
     "name": "#%%\n"
    }
   }
  },
  {
   "cell_type": "code",
   "execution_count": 37,
   "outputs": [
    {
     "name": "stderr",
     "output_type": "stream",
     "text": [
      "/home/jack/Desktop/uni/DDE/project/dde/topic_modeling/topic_modeling_functions.py:7: SettingWithCopyWarning: \n",
      "A value is trying to be set on a copy of a slice from a DataFrame.\n",
      "Try using .loc[row_indexer,col_indexer] = value instead\n",
      "\n",
      "See the caveats in the documentation: https://pandas.pydata.org/pandas-docs/stable/user_guide/indexing.html#returning-a-view-versus-a-copy\n",
      "  df['Max'] = df_topic_matrix['Max']\n"
     ]
    }
   ],
   "source": [
    "df1_topic_men = add_topic_label(lda_topic_matrix, df_lemmatized_men)"
   ],
   "metadata": {
    "collapsed": false,
    "pycharm": {
     "name": "#%%\n"
    }
   }
  },
  {
   "cell_type": "markdown",
   "source": [
    "Finally we store the topic specific dataframes:"
   ],
   "metadata": {
    "collapsed": false,
    "pycharm": {
     "name": "#%% md\n"
    }
   }
  },
  {
   "cell_type": "code",
   "execution_count": 38,
   "metadata": {
    "pycharm": {
     "name": "#%%\n"
    }
   },
   "outputs": [],
   "source": [
    "# CREATE THE DF FILTERED BY TOPICS FOR THE MEN OF THE STREET\n",
    "df_inflation_men = filter_by_topic(df1_topic_men, 2.0)\n",
    "df_financial_men = filter_by_topic(df1_topic_men, 12.0)\n",
    "df_energy_men = filter_by_topic(df1_topic_men, 18.0)\n",
    "df_bitcoin_men= filter_by_topic(df1_topic_men, 26.0)\n",
    "df_real_estate_men = filter_by_topic(df1_topic_men, 30.0)"
   ]
  },
  {
   "cell_type": "code",
   "execution_count": 39,
   "metadata": {
    "pycharm": {
     "name": "#%%\n"
    }
   },
   "outputs": [],
   "source": [
    "df_inflation_men.to_csv('df_inflation_men.csv')\n",
    "df_financial_men.to_csv('df_financial_men.csv')\n",
    "df_energy_men.to_csv('df_energy_men.csv') \n",
    "df_bitcoin_men.to_csv('df_bitcoin_men.csv')\n",
    "df_real_estate_men.to_csv('df_real_estate_men.csv')"
   ]
  },
  {
   "cell_type": "code",
   "execution_count": 40,
   "outputs": [
    {
     "name": "stderr",
     "output_type": "stream",
     "text": [
      "/home/jack/Desktop/uni/DDE/project/dde/topic_modeling/topic_modeling_functions.py:7: SettingWithCopyWarning: \n",
      "A value is trying to be set on a copy of a slice from a DataFrame.\n",
      "Try using .loc[row_indexer,col_indexer] = value instead\n",
      "\n",
      "See the caveats in the documentation: https://pandas.pydata.org/pandas-docs/stable/user_guide/indexing.html#returning-a-view-versus-a-copy\n",
      "  df['Max'] = df_topic_matrix['Max']\n"
     ]
    }
   ],
   "source": [
    "df1_topic_professionals = add_topic_label(lda_topic_matrix, df_lemmatized_professionals)"
   ],
   "metadata": {
    "collapsed": false,
    "pycharm": {
     "name": "#%%\n"
    }
   }
  },
  {
   "cell_type": "code",
   "execution_count": 41,
   "metadata": {
    "pycharm": {
     "name": "#%%\n"
    }
   },
   "outputs": [],
   "source": [
    "# CREATE THE DF FILTERED BY TOPICS FOR THE PROFESSIONALS\n",
    "df_inflation_experts = filter_by_topic(df1_topic_professionals, 2.0)\n",
    "df_financial_experts = filter_by_topic(df1_topic_professionals, 12.0)\n",
    "df_energy_experts = filter_by_topic(df1_topic_professionals, 18.0)\n",
    "df_bitcoin_experts = filter_by_topic(df1_topic_professionals, 26.0)\n",
    "df_real_estate_experts = filter_by_topic(df1_topic_professionals, 30.0)"
   ]
  },
  {
   "cell_type": "code",
   "execution_count": 42,
   "outputs": [],
   "source": [
    "df_inflation_experts.to_csv('df_inflation_experts.csv')\n",
    "df_financial_experts.to_csv('df_financial_experts.csv')\n",
    "df_energy_experts.to_csv('df_energy_experts.csv') \n",
    "df_bitcoin_experts.to_csv('df_bitcoin_experts.csv')\n",
    "df_real_estate_experts.to_csv('df_real_estate_experts.csv')"
   ],
   "metadata": {
    "collapsed": false,
    "pycharm": {
     "name": "#%%\n"
    }
   }
  }
 ],
 "metadata": {
  "kernelspec": {
   "display_name": "Python 3.9.1 64-bit",
   "language": "python",
   "name": "python3"
  },
  "language_info": {
   "codemirror_mode": {
    "name": "ipython",
    "version": 2
   },
   "file_extension": ".py",
   "mimetype": "text/x-python",
   "name": "python",
   "nbconvert_exporter": "python",
   "pygments_lexer": "ipython2",
   "version": "3.9.1"
  },
  "vscode": {
   "interpreter": {
    "hash": "a8de014130fe1285dee42499d552f2475fc25cf8d180624795f3eecd830d000f"
   }
  }
 },
 "nbformat": 4,
 "nbformat_minor": 0
}