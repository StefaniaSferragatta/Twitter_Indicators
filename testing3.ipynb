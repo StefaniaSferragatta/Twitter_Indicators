{
 "cells": [
  {
   "cell_type": "markdown",
   "metadata": {
    "collapsed": false,
    "pycharm": {
     "name": "#%% md\n"
    }
   },
   "source": [
    "# Importing data"
   ]
  },
  {
   "cell_type": "code",
   "execution_count": 1,
   "metadata": {
    "collapsed": true,
    "pycharm": {
     "name": "#%%\n"
    }
   },
   "outputs": [],
   "source": [
    "import pandas as pd\n",
    "import pyarrow.parquet as pq\n",
    "from pathlib import Path"
   ]
  },
  {
   "cell_type": "code",
   "execution_count": 2,
   "metadata": {
    "collapsed": false,
    "pycharm": {
     "name": "#%%\n"
    }
   },
   "outputs": [],
   "source": [
    "path_to_parquet_data = Path('./data/infl-en-dde')\n",
    "\n",
    "df1 = pq.read_table(path_to_parquet_data / 'df1e.parquet').to_pandas()\n",
    "df2 = pq.read_table(path_to_parquet_data / 'df2e.parquet').to_pandas()\n",
    "df3 = pq.read_table(path_to_parquet_data / 'df3e.parquet').to_pandas()\n",
    "df4 = pq.read_table(path_to_parquet_data / 'df4e.parquet').to_pandas()\n",
    "df5 = pq.read_table(path_to_parquet_data / 'df5e.parquet').to_pandas()"
   ]
  },
  {
   "cell_type": "markdown",
   "metadata": {
    "collapsed": false,
    "pycharm": {
     "name": "#%% md\n"
    }
   },
   "source": [
    "# Filtering and joining"
   ]
  },
  {
   "cell_type": "code",
   "execution_count": 3,
   "metadata": {
    "collapsed": false,
    "pycharm": {
     "name": "#%%\n"
    }
   },
   "outputs": [],
   "source": [
    "no_retweets_mask = df1['retweetbody'].isnull()\n",
    "df1 = df1[no_retweets_mask]"
   ]
  },
  {
   "cell_type": "code",
   "execution_count": 5,
   "metadata": {
    "collapsed": false,
    "pycharm": {
     "name": "#%%\n"
    }
   },
   "outputs": [],
   "source": [
    "df1 = df1.merge(df4, how='left', left_on='id', right_on='id')"
   ]
  },
  {
   "cell_type": "code",
   "execution_count": 6,
   "metadata": {
    "collapsed": false,
    "pycharm": {
     "name": "#%%\n"
    }
   },
   "outputs": [
    {
     "data": {
      "text/html": [
       "<div>\n",
       "<style scoped>\n",
       "    .dataframe tbody tr th:only-of-type {\n",
       "        vertical-align: middle;\n",
       "    }\n",
       "\n",
       "    .dataframe tbody tr th {\n",
       "        vertical-align: top;\n",
       "    }\n",
       "\n",
       "    .dataframe thead th {\n",
       "        text-align: right;\n",
       "    }\n",
       "</style>\n",
       "<table border=\"1\" class=\"dataframe\">\n",
       "  <thead>\n",
       "    <tr style=\"text-align: right;\">\n",
       "      <th></th>\n",
       "      <th>id</th>\n",
       "      <th>verb</th>\n",
       "      <th>userid</th>\n",
       "      <th>inreplyto</th>\n",
       "      <th>link</th>\n",
       "      <th>body</th>\n",
       "      <th>retweetbody</th>\n",
       "      <th>tweet_dt</th>\n",
       "      <th>postedtime_x</th>\n",
       "      <th>retweetcount</th>\n",
       "      <th>favoritescount</th>\n",
       "      <th>generator</th>\n",
       "      <th>locationname</th>\n",
       "      <th>locationcode</th>\n",
       "      <th>hashtag</th>\n",
       "      <th>postedtime_y</th>\n",
       "    </tr>\n",
       "  </thead>\n",
       "  <tbody>\n",
       "    <tr>\n",
       "      <th>0</th>\n",
       "      <td>tag:search.twitter.com,2005:1000121300550062080</td>\n",
       "      <td>post</td>\n",
       "      <td>id:twitter.com:507547334</td>\n",
       "      <td>None</td>\n",
       "      <td>http://twitter.com/Bill_Dykes/statuses/1000121...</td>\n",
       "      <td>Heading into the Memorial Day weekend those in...</td>\n",
       "      <td>None</td>\n",
       "      <td>2018-05-25</td>\n",
       "      <td>2018-05-25T21:07:54.000Z</td>\n",
       "      <td>0</td>\n",
       "      <td>0.0</td>\n",
       "      <td>LinkedIn</td>\n",
       "      <td>None</td>\n",
       "      <td>None</td>\n",
       "      <td>NaN</td>\n",
       "      <td>NaN</td>\n",
       "    </tr>\n",
       "    <tr>\n",
       "      <th>1</th>\n",
       "      <td>tag:search.twitter.com,2005:1000138945731031040</td>\n",
       "      <td>post</td>\n",
       "      <td>id:twitter.com:223565922</td>\n",
       "      <td>None</td>\n",
       "      <td>http://twitter.com/SoPhillyFred/statuses/10001...</td>\n",
       "      <td>Retweeted Ron Paul (@RonPaul):\\n\\nInflation is...</td>\n",
       "      <td>None</td>\n",
       "      <td>2018-05-25</td>\n",
       "      <td>2018-05-25T22:18:01.000Z</td>\n",
       "      <td>0</td>\n",
       "      <td>0.0</td>\n",
       "      <td>Facebook</td>\n",
       "      <td>None</td>\n",
       "      <td>None</td>\n",
       "      <td>NaN</td>\n",
       "      <td>NaN</td>\n",
       "    </tr>\n",
       "    <tr>\n",
       "      <th>2</th>\n",
       "      <td>tag:search.twitter.com,2005:1000149645920735232</td>\n",
       "      <td>post</td>\n",
       "      <td>id:twitter.com:1252224511</td>\n",
       "      <td>None</td>\n",
       "      <td>http://twitter.com/EnergyPhilFlynn/statuses/10...</td>\n",
       "      <td>Oil prices fall on talk of hike in production,...</td>\n",
       "      <td>None</td>\n",
       "      <td>2018-05-25</td>\n",
       "      <td>2018-05-25T23:00:32.000Z</td>\n",
       "      <td>0</td>\n",
       "      <td>0.0</td>\n",
       "      <td>Twitter Web Client</td>\n",
       "      <td>None</td>\n",
       "      <td>None</td>\n",
       "      <td>GoogleAlerts</td>\n",
       "      <td>2018-05-25</td>\n",
       "    </tr>\n",
       "    <tr>\n",
       "      <th>3</th>\n",
       "      <td>tag:search.twitter.com,2005:1000562796646428673</td>\n",
       "      <td>post</td>\n",
       "      <td>id:twitter.com:992334290</td>\n",
       "      <td>None</td>\n",
       "      <td>http://twitter.com/JeanSwenson2/statuses/10005...</td>\n",
       "      <td>Gas prices up 60 cents over a year ago.  And i...</td>\n",
       "      <td>None</td>\n",
       "      <td>2018-05-27</td>\n",
       "      <td>2018-05-27T02:22:14.000Z</td>\n",
       "      <td>0</td>\n",
       "      <td>0.0</td>\n",
       "      <td>Twitter Web Client</td>\n",
       "      <td>None</td>\n",
       "      <td>None</td>\n",
       "      <td>NaN</td>\n",
       "      <td>NaN</td>\n",
       "    </tr>\n",
       "    <tr>\n",
       "      <th>4</th>\n",
       "      <td>tag:search.twitter.com,2005:1001436242440085504</td>\n",
       "      <td>post</td>\n",
       "      <td>id:twitter.com:21130921</td>\n",
       "      <td>None</td>\n",
       "      <td>http://twitter.com/WFAE/statuses/1001436242440...</td>\n",
       "      <td>To Lower Your Medicare Drug Costs, Ask Your Ph...</td>\n",
       "      <td>None</td>\n",
       "      <td>2018-05-29</td>\n",
       "      <td>2018-05-29T12:13:00.000Z</td>\n",
       "      <td>0</td>\n",
       "      <td>0.0</td>\n",
       "      <td>Buffer</td>\n",
       "      <td>None</td>\n",
       "      <td>None</td>\n",
       "      <td>NaN</td>\n",
       "      <td>NaN</td>\n",
       "    </tr>\n",
       "    <tr>\n",
       "      <th>...</th>\n",
       "      <td>...</td>\n",
       "      <td>...</td>\n",
       "      <td>...</td>\n",
       "      <td>...</td>\n",
       "      <td>...</td>\n",
       "      <td>...</td>\n",
       "      <td>...</td>\n",
       "      <td>...</td>\n",
       "      <td>...</td>\n",
       "      <td>...</td>\n",
       "      <td>...</td>\n",
       "      <td>...</td>\n",
       "      <td>...</td>\n",
       "      <td>...</td>\n",
       "      <td>...</td>\n",
       "      <td>...</td>\n",
       "    </tr>\n",
       "    <tr>\n",
       "      <th>961059</th>\n",
       "      <td>tag:search.twitter.com,2005:998012788177014784</td>\n",
       "      <td>post</td>\n",
       "      <td>id:twitter.com:1942726112</td>\n",
       "      <td>None</td>\n",
       "      <td>http://twitter.com/ScottRiff/statuses/99801278...</td>\n",
       "      <td>Gasoline prices have been rising at a furious ...</td>\n",
       "      <td>None</td>\n",
       "      <td>2018-05-20</td>\n",
       "      <td>2018-05-20T01:29:25.000Z</td>\n",
       "      <td>0</td>\n",
       "      <td>0.0</td>\n",
       "      <td>Twitter Web Client</td>\n",
       "      <td>None</td>\n",
       "      <td>None</td>\n",
       "      <td>NaN</td>\n",
       "      <td>NaN</td>\n",
       "    </tr>\n",
       "    <tr>\n",
       "      <th>961060</th>\n",
       "      <td>tag:search.twitter.com,2005:998627744371134464</td>\n",
       "      <td>post</td>\n",
       "      <td>id:twitter.com:382381310</td>\n",
       "      <td>None</td>\n",
       "      <td>http://twitter.com/gregorymay1/statuses/998627...</td>\n",
       "      <td>Stock news Today I will buy a small amount to ...</td>\n",
       "      <td>None</td>\n",
       "      <td>2018-05-21</td>\n",
       "      <td>2018-05-21T18:13:02.000Z</td>\n",
       "      <td>0</td>\n",
       "      <td>0.0</td>\n",
       "      <td>Twitter for iPad</td>\n",
       "      <td>Bardonia</td>\n",
       "      <td>US</td>\n",
       "      <td>NaN</td>\n",
       "      <td>NaN</td>\n",
       "    </tr>\n",
       "    <tr>\n",
       "      <th>961061</th>\n",
       "      <td>tag:search.twitter.com,2005:998646409485316097</td>\n",
       "      <td>post</td>\n",
       "      <td>id:twitter.com:20015855</td>\n",
       "      <td>None</td>\n",
       "      <td>http://twitter.com/Smart_Realtor/statuses/9986...</td>\n",
       "      <td>Prices will likely be even higher near the end...</td>\n",
       "      <td>None</td>\n",
       "      <td>2018-05-21</td>\n",
       "      <td>2018-05-21T19:27:12.000Z</td>\n",
       "      <td>0</td>\n",
       "      <td>0.0</td>\n",
       "      <td>InStockSocial</td>\n",
       "      <td>None</td>\n",
       "      <td>None</td>\n",
       "      <td>NaN</td>\n",
       "      <td>NaN</td>\n",
       "    </tr>\n",
       "    <tr>\n",
       "      <th>961062</th>\n",
       "      <td>tag:search.twitter.com,2005:999387232157876224</td>\n",
       "      <td>post</td>\n",
       "      <td>id:twitter.com:877585625876221953</td>\n",
       "      <td>None</td>\n",
       "      <td>http://twitter.com/FeedYouDeals/statuses/99938...</td>\n",
       "      <td>Wolfgang Puck High-Performance Com...: List Pr...</td>\n",
       "      <td>None</td>\n",
       "      <td>2018-05-23</td>\n",
       "      <td>2018-05-23T20:30:58.000Z</td>\n",
       "      <td>0</td>\n",
       "      <td>0.0</td>\n",
       "      <td>dlvr.it</td>\n",
       "      <td>None</td>\n",
       "      <td>None</td>\n",
       "      <td>NaN</td>\n",
       "      <td>NaN</td>\n",
       "    </tr>\n",
       "    <tr>\n",
       "      <th>961063</th>\n",
       "      <td>tag:search.twitter.com,2005:999612775067541504</td>\n",
       "      <td>post</td>\n",
       "      <td>id:twitter.com:570416368</td>\n",
       "      <td>None</td>\n",
       "      <td>http://twitter.com/Metacurity/statuses/9996127...</td>\n",
       "      <td>FBI's Inflation of Uncrackable Encrypted Phone...</td>\n",
       "      <td>None</td>\n",
       "      <td>2018-05-24</td>\n",
       "      <td>2018-05-24T11:27:12.000Z</td>\n",
       "      <td>0</td>\n",
       "      <td>0.0</td>\n",
       "      <td>Twitter Web Client</td>\n",
       "      <td>None</td>\n",
       "      <td>None</td>\n",
       "      <td>NaN</td>\n",
       "      <td>NaN</td>\n",
       "    </tr>\n",
       "  </tbody>\n",
       "</table>\n",
       "<p>961064 rows × 16 columns</p>\n",
       "</div>"
      ],
      "text/plain": [
       "                                                     id  verb  \\\n",
       "0       tag:search.twitter.com,2005:1000121300550062080  post   \n",
       "1       tag:search.twitter.com,2005:1000138945731031040  post   \n",
       "2       tag:search.twitter.com,2005:1000149645920735232  post   \n",
       "3       tag:search.twitter.com,2005:1000562796646428673  post   \n",
       "4       tag:search.twitter.com,2005:1001436242440085504  post   \n",
       "...                                                 ...   ...   \n",
       "961059   tag:search.twitter.com,2005:998012788177014784  post   \n",
       "961060   tag:search.twitter.com,2005:998627744371134464  post   \n",
       "961061   tag:search.twitter.com,2005:998646409485316097  post   \n",
       "961062   tag:search.twitter.com,2005:999387232157876224  post   \n",
       "961063   tag:search.twitter.com,2005:999612775067541504  post   \n",
       "\n",
       "                                   userid inreplyto  \\\n",
       "0                id:twitter.com:507547334      None   \n",
       "1                id:twitter.com:223565922      None   \n",
       "2               id:twitter.com:1252224511      None   \n",
       "3                id:twitter.com:992334290      None   \n",
       "4                 id:twitter.com:21130921      None   \n",
       "...                                   ...       ...   \n",
       "961059          id:twitter.com:1942726112      None   \n",
       "961060           id:twitter.com:382381310      None   \n",
       "961061            id:twitter.com:20015855      None   \n",
       "961062  id:twitter.com:877585625876221953      None   \n",
       "961063           id:twitter.com:570416368      None   \n",
       "\n",
       "                                                     link  \\\n",
       "0       http://twitter.com/Bill_Dykes/statuses/1000121...   \n",
       "1       http://twitter.com/SoPhillyFred/statuses/10001...   \n",
       "2       http://twitter.com/EnergyPhilFlynn/statuses/10...   \n",
       "3       http://twitter.com/JeanSwenson2/statuses/10005...   \n",
       "4       http://twitter.com/WFAE/statuses/1001436242440...   \n",
       "...                                                   ...   \n",
       "961059  http://twitter.com/ScottRiff/statuses/99801278...   \n",
       "961060  http://twitter.com/gregorymay1/statuses/998627...   \n",
       "961061  http://twitter.com/Smart_Realtor/statuses/9986...   \n",
       "961062  http://twitter.com/FeedYouDeals/statuses/99938...   \n",
       "961063  http://twitter.com/Metacurity/statuses/9996127...   \n",
       "\n",
       "                                                     body retweetbody  \\\n",
       "0       Heading into the Memorial Day weekend those in...        None   \n",
       "1       Retweeted Ron Paul (@RonPaul):\\n\\nInflation is...        None   \n",
       "2       Oil prices fall on talk of hike in production,...        None   \n",
       "3       Gas prices up 60 cents over a year ago.  And i...        None   \n",
       "4       To Lower Your Medicare Drug Costs, Ask Your Ph...        None   \n",
       "...                                                   ...         ...   \n",
       "961059  Gasoline prices have been rising at a furious ...        None   \n",
       "961060  Stock news Today I will buy a small amount to ...        None   \n",
       "961061  Prices will likely be even higher near the end...        None   \n",
       "961062  Wolfgang Puck High-Performance Com...: List Pr...        None   \n",
       "961063  FBI's Inflation of Uncrackable Encrypted Phone...        None   \n",
       "\n",
       "          tweet_dt              postedtime_x  retweetcount  favoritescount  \\\n",
       "0       2018-05-25  2018-05-25T21:07:54.000Z             0             0.0   \n",
       "1       2018-05-25  2018-05-25T22:18:01.000Z             0             0.0   \n",
       "2       2018-05-25  2018-05-25T23:00:32.000Z             0             0.0   \n",
       "3       2018-05-27  2018-05-27T02:22:14.000Z             0             0.0   \n",
       "4       2018-05-29  2018-05-29T12:13:00.000Z             0             0.0   \n",
       "...            ...                       ...           ...             ...   \n",
       "961059  2018-05-20  2018-05-20T01:29:25.000Z             0             0.0   \n",
       "961060  2018-05-21  2018-05-21T18:13:02.000Z             0             0.0   \n",
       "961061  2018-05-21  2018-05-21T19:27:12.000Z             0             0.0   \n",
       "961062  2018-05-23  2018-05-23T20:30:58.000Z             0             0.0   \n",
       "961063  2018-05-24  2018-05-24T11:27:12.000Z             0             0.0   \n",
       "\n",
       "                 generator locationname locationcode       hashtag  \\\n",
       "0                 LinkedIn         None         None           NaN   \n",
       "1                 Facebook         None         None           NaN   \n",
       "2       Twitter Web Client         None         None  GoogleAlerts   \n",
       "3       Twitter Web Client         None         None           NaN   \n",
       "4                   Buffer         None         None           NaN   \n",
       "...                    ...          ...          ...           ...   \n",
       "961059  Twitter Web Client         None         None           NaN   \n",
       "961060    Twitter for iPad     Bardonia           US           NaN   \n",
       "961061       InStockSocial         None         None           NaN   \n",
       "961062             dlvr.it         None         None           NaN   \n",
       "961063  Twitter Web Client         None         None           NaN   \n",
       "\n",
       "       postedtime_y  \n",
       "0               NaN  \n",
       "1               NaN  \n",
       "2        2018-05-25  \n",
       "3               NaN  \n",
       "4               NaN  \n",
       "...             ...  \n",
       "961059          NaN  \n",
       "961060          NaN  \n",
       "961061          NaN  \n",
       "961062          NaN  \n",
       "961063          NaN  \n",
       "\n",
       "[961064 rows x 16 columns]"
      ]
     },
     "execution_count": 6,
     "metadata": {},
     "output_type": "execute_result"
    }
   ],
   "source": [
    "df1"
   ]
  },
  {
   "cell_type": "markdown",
   "metadata": {
    "collapsed": false,
    "pycharm": {
     "name": "#%% md\n"
    }
   },
   "source": [
    "# Data cleaning"
   ]
  },
  {
   "cell_type": "code",
   "execution_count": 7,
   "metadata": {
    "collapsed": false,
    "pycharm": {
     "name": "#%%\n"
    }
   },
   "outputs": [
    {
     "name": "stderr",
     "output_type": "stream",
     "text": [
      "100%|██████████| 961064/961064 [00:25<00:00, 38311.85it/s]\n"
     ]
    }
   ],
   "source": [
    "from dde.preprocessing.cleaning import data_preprocessing\n",
    "from tqdm import tqdm\n",
    "\n",
    "tqdm.pandas()\n",
    "\n",
    "\n",
    "df1_cleaned = df1.copy()\n",
    "df1_cleaned['body'] = df1['body'].progress_apply(lambda x: data_preprocessing(x))"
   ]
  },
  {
   "cell_type": "markdown",
   "metadata": {
    "collapsed": false,
    "pycharm": {
     "name": "#%% md\n"
    }
   },
   "source": [
    "This tokenize and lemmatize the body of the tweets, but don't run it since it takes quite a lot of time."
   ]
  },
  {
   "cell_type": "code",
   "execution_count": 9,
   "metadata": {
    "collapsed": false,
    "pycharm": {
     "name": "#%%\n"
    }
   },
   "outputs": [],
   "source": [
    "from dde.preprocessing.nltk_processing import remove_stopwords, lemmatize\n",
    "from tqdm import tqdm\n",
    "tqdm.pandas()\n",
    "\n",
    "# df1_lemmatized = df1_cleaned.copy()\n",
    "# tokenize, lemmatize and remove the stopwords of the tweers\n",
    "# df1_lemmatized['body'] = df1_cleaned['body'].progress_apply(lambda x: lemmatize(x))\n",
    "# df1_lemmatized['body'] = df1_lemmatized['body'].progress_apply(lambda x: remove_stopwords(x))"
   ]
  },
  {
   "cell_type": "markdown",
   "metadata": {
    "collapsed": false,
    "pycharm": {
     "name": "#%% md\n"
    }
   },
   "source": [
    "**QUESTO STA QUA PERCHÈ È LUNGO RIRUNNARE LE FUNZIONI SOPRA**"
   ]
  },
  {
   "cell_type": "code",
   "execution_count": 11,
   "metadata": {
    "collapsed": false,
    "pycharm": {
     "name": "#%%\n"
    }
   },
   "outputs": [],
   "source": [
    "df1_lemmatized = pd.read_csv('data/tokenized_lemmatized_df1/df1_lemmatized.csv')"
   ]
  },
  {
   "cell_type": "code",
   "execution_count": 12,
   "metadata": {
    "collapsed": false,
    "pycharm": {
     "name": "#%%\n"
    }
   },
   "outputs": [],
   "source": [
    "df1_lemmatized = pd.read_csv(\"data/tokenized_lemmatized_df1/df1_lemmatized.csv\", converters={\"body\": lambda x: x.strip(\"[]\").replace(\"'\",\"\").split(\", \")}, index_col=0)"
   ]
  },
  {
   "cell_type": "markdown",
   "metadata": {
    "collapsed": false,
    "pycharm": {
     "name": "#%% md\n"
    }
   },
   "source": [
    "**BOTS AND PROFESSIONALS**"
   ]
  },
  {
   "cell_type": "markdown",
   "metadata": {
    "collapsed": false,
    "pycharm": {
     "name": "#%% md\n"
    }
   },
   "source": []
  },
  {
   "cell_type": "markdown",
   "metadata": {
    "collapsed": false,
    "pycharm": {
     "name": "#%% md\n"
    }
   },
   "source": [
    "# Vectorization"
   ]
  },
  {
   "cell_type": "code",
   "execution_count": 14,
   "metadata": {
    "collapsed": false,
    "pycharm": {
     "name": "#%%\n"
    }
   },
   "outputs": [],
   "source": [
    "from tqdm import tqdm\n",
    "\n",
    "tqdm.pandas()"
   ]
  },
  {
   "cell_type": "code",
   "execution_count": 15,
   "metadata": {
    "collapsed": false,
    "pycharm": {
     "name": "#%%\n"
    }
   },
   "outputs": [
    {
     "name": "stderr",
     "output_type": "stream",
     "text": [
      "100%|██████████| 866654/866654 [00:00<00:00, 1043961.82it/s]\n"
     ]
    }
   ],
   "source": [
    "text_corpus = df1_lemmatized['body'].progress_apply(lambda x: ' '.join(x))"
   ]
  },
  {
   "cell_type": "code",
   "execution_count": 16,
   "metadata": {
    "collapsed": false,
    "pycharm": {
     "name": "#%%\n"
    }
   },
   "outputs": [],
   "source": [
    "complete_text_corpus = text_corpus.str.cat(sep=', ')"
   ]
  },
  {
   "cell_type": "code",
   "execution_count": 17,
   "metadata": {
    "collapsed": false,
    "pycharm": {
     "name": "#%%\n"
    }
   },
   "outputs": [
    {
     "data": {
      "text/html": [
       "<style>#sk-container-id-1 {color: black;background-color: white;}#sk-container-id-1 pre{padding: 0;}#sk-container-id-1 div.sk-toggleable {background-color: white;}#sk-container-id-1 label.sk-toggleable__label {cursor: pointer;display: block;width: 100%;margin-bottom: 0;padding: 0.3em;box-sizing: border-box;text-align: center;}#sk-container-id-1 label.sk-toggleable__label-arrow:before {content: \"▸\";float: left;margin-right: 0.25em;color: #696969;}#sk-container-id-1 label.sk-toggleable__label-arrow:hover:before {color: black;}#sk-container-id-1 div.sk-estimator:hover label.sk-toggleable__label-arrow:before {color: black;}#sk-container-id-1 div.sk-toggleable__content {max-height: 0;max-width: 0;overflow: hidden;text-align: left;background-color: #f0f8ff;}#sk-container-id-1 div.sk-toggleable__content pre {margin: 0.2em;color: black;border-radius: 0.25em;background-color: #f0f8ff;}#sk-container-id-1 input.sk-toggleable__control:checked~div.sk-toggleable__content {max-height: 200px;max-width: 100%;overflow: auto;}#sk-container-id-1 input.sk-toggleable__control:checked~label.sk-toggleable__label-arrow:before {content: \"▾\";}#sk-container-id-1 div.sk-estimator input.sk-toggleable__control:checked~label.sk-toggleable__label {background-color: #d4ebff;}#sk-container-id-1 div.sk-label input.sk-toggleable__control:checked~label.sk-toggleable__label {background-color: #d4ebff;}#sk-container-id-1 input.sk-hidden--visually {border: 0;clip: rect(1px 1px 1px 1px);clip: rect(1px, 1px, 1px, 1px);height: 1px;margin: -1px;overflow: hidden;padding: 0;position: absolute;width: 1px;}#sk-container-id-1 div.sk-estimator {font-family: monospace;background-color: #f0f8ff;border: 1px dotted black;border-radius: 0.25em;box-sizing: border-box;margin-bottom: 0.5em;}#sk-container-id-1 div.sk-estimator:hover {background-color: #d4ebff;}#sk-container-id-1 div.sk-parallel-item::after {content: \"\";width: 100%;border-bottom: 1px solid gray;flex-grow: 1;}#sk-container-id-1 div.sk-label:hover label.sk-toggleable__label {background-color: #d4ebff;}#sk-container-id-1 div.sk-serial::before {content: \"\";position: absolute;border-left: 1px solid gray;box-sizing: border-box;top: 0;bottom: 0;left: 50%;z-index: 0;}#sk-container-id-1 div.sk-serial {display: flex;flex-direction: column;align-items: center;background-color: white;padding-right: 0.2em;padding-left: 0.2em;position: relative;}#sk-container-id-1 div.sk-item {position: relative;z-index: 1;}#sk-container-id-1 div.sk-parallel {display: flex;align-items: stretch;justify-content: center;background-color: white;position: relative;}#sk-container-id-1 div.sk-item::before, #sk-container-id-1 div.sk-parallel-item::before {content: \"\";position: absolute;border-left: 1px solid gray;box-sizing: border-box;top: 0;bottom: 0;left: 50%;z-index: -1;}#sk-container-id-1 div.sk-parallel-item {display: flex;flex-direction: column;z-index: 1;position: relative;background-color: white;}#sk-container-id-1 div.sk-parallel-item:first-child::after {align-self: flex-end;width: 50%;}#sk-container-id-1 div.sk-parallel-item:last-child::after {align-self: flex-start;width: 50%;}#sk-container-id-1 div.sk-parallel-item:only-child::after {width: 0;}#sk-container-id-1 div.sk-dashed-wrapped {border: 1px dashed gray;margin: 0 0.4em 0.5em 0.4em;box-sizing: border-box;padding-bottom: 0.4em;background-color: white;}#sk-container-id-1 div.sk-label label {font-family: monospace;font-weight: bold;display: inline-block;line-height: 1.2em;}#sk-container-id-1 div.sk-label-container {text-align: center;}#sk-container-id-1 div.sk-container {/* jupyter's `normalize.less` sets `[hidden] { display: none; }` but bootstrap.min.css set `[hidden] { display: none !important; }` so we also need the `!important` here to be able to override the default hidden behavior on the sphinx rendered scikit-learn.org. See: https://github.com/scikit-learn/scikit-learn/issues/21755 */display: inline-block !important;position: relative;}#sk-container-id-1 div.sk-text-repr-fallback {display: none;}</style><div id=\"sk-container-id-1\" class=\"sk-top-container\"><div class=\"sk-text-repr-fallback\"><pre>CountVectorizer()</pre><b>In a Jupyter environment, please rerun this cell to show the HTML representation or trust the notebook. <br />On GitHub, the HTML representation is unable to render, please try loading this page with nbviewer.org.</b></div><div class=\"sk-container\" hidden><div class=\"sk-item\"><div class=\"sk-estimator sk-toggleable\"><input class=\"sk-toggleable__control sk-hidden--visually\" id=\"sk-estimator-id-1\" type=\"checkbox\" checked><label for=\"sk-estimator-id-1\" class=\"sk-toggleable__label sk-toggleable__label-arrow\">CountVectorizer</label><div class=\"sk-toggleable__content\"><pre>CountVectorizer()</pre></div></div></div></div></div>"
      ],
      "text/plain": [
       "CountVectorizer()"
      ]
     },
     "execution_count": 17,
     "metadata": {},
     "output_type": "execute_result"
    }
   ],
   "source": [
    "from sklearn.feature_extraction.text import CountVectorizer\n",
    "\n",
    "vectorizer = CountVectorizer()\n",
    "\n",
    "# text_corpus = ... here the full body of tweets ...\n",
    "vectorizer.fit(text_corpus)"
   ]
  },
  {
   "cell_type": "code",
   "execution_count": 18,
   "metadata": {
    "collapsed": false,
    "pycharm": {
     "name": "#%%\n"
    }
   },
   "outputs": [],
   "source": [
    "# X is the feature matrix it has number of rows equal to the number of tweets and columns equal to the features\n",
    "X = vectorizer.transform(text_corpus)"
   ]
  },
  {
   "cell_type": "markdown",
   "metadata": {},
   "source": [
    "## PREPARING THE DATA TO BUILD THE GRAPH"
   ]
  },
  {
   "cell_type": "code",
   "execution_count": 20,
   "metadata": {
    "collapsed": false,
    "pycharm": {
     "name": "#%%\n"
    }
   },
   "outputs": [
    {
     "data": {
      "text/plain": [
       "<generator object isolates.<locals>.<genexpr> at 0x7fc2f4afb140>"
      ]
     },
     "execution_count": 20,
     "metadata": {},
     "output_type": "execute_result"
    }
   ],
   "source": [
    "#Dataset containing the tweets with the hashtags\n",
    "df1_hashtags = df1['hashtag'].dropna().apply(lambda x: x.lower())\n",
    "\n",
    "#Filter the df1 based on the df with the hashtags\n",
    "df1_only_hashtags = df1.loc[df1_hashtags.index]\n",
    "df1_only_hashtags['hashtag'] = df1_only_hashtags['hashtag'].apply(lambda x: x.lower())\n",
    "\n",
    "# Put in a list all the hashtags in a tweet and take the unique id of the tweet. we do this in order to form the community \n",
    "df1_aggr = df1.copy()\n",
    "df1_aggr = df1_only_hashtags.groupby(['id'])[\n",
    "    ['hashtag']].agg(lambda x: list(x)).reset_index()"
   ]
  },
  {
   "cell_type": "markdown",
   "metadata": {
    "collapsed": false,
    "pycharm": {
     "name": "#%% md\n"
    }
   },
   "source": [
    "# Building the Graph"
   ]
  },
  {
   "cell_type": "code",
   "execution_count": 21,
   "metadata": {
    "collapsed": false,
    "pycharm": {
     "name": "#%%\n"
    }
   },
   "outputs": [],
   "source": [
    "import networkx as nx\n",
    "\n",
    "G = nx.Graph()\n",
    "G.add_nodes_from(df1_hashtags.to_list())\n",
    "nx.isolates(G)\n",
    "G.nodes"
   ]
  },
  {
   "cell_type": "code",
   "execution_count": 23,
   "metadata": {
    "collapsed": false,
    "pycharm": {
     "name": "#%%\n"
    }
   },
   "outputs": [],
   "source": [
    "# def add_edges_to_graph(df1_aggr,G):\n",
    "#     for row in df1_aggr['hashtag']:\n",
    "#         if type(row) == str or str(row[0]) == 'nan':\n",
    "#             ...\n",
    "#         else:\n",
    "#             for x in itertools.combinations(row, 2):\n",
    "\n",
    "#                 if not G.has_edge(x[0], x[1]):\n",
    "#                     G.add_edge(x[0], x[1])\n",
    "#                     #   print('first if: ', x)\n",
    "#                     G[x[0]][x[1]]['weight'] = 1\n",
    "#                 else:\n",
    "\n",
    "#                     G[x[0]][x[1]]['weight'] += 1\n",
    "        # return"
   ]
  },
  {
   "cell_type": "code",
   "execution_count": null,
   "metadata": {
    "collapsed": false,
    "pycharm": {
     "name": "#%%\n"
    }
   },
   "outputs": [],
   "source": [
    "graph_functions.add_edges_to_graph(df1_aggr,G)\n",
    "G.edges"
   ]
  },
  {
   "cell_type": "code",
   "execution_count": 26,
   "metadata": {
    "collapsed": false,
    "pycharm": {
     "name": "#%%\n"
    }
   },
   "outputs": [],
   "source": [
    "# sorted(G.edges(data=True),key= lambda x: x[2]['weight'],reverse=True)\n",
    "\n",
    "# # REMOVE FROM THE GRAPH THE LESS CONNECTED COMUNITIES \n",
    "# def less_connected_comunities(G,threshold = 5):\n",
    "#     long_edges = list(filter(lambda e: e[2] < threshold, (e for e in G.edges.data('weight'))))\n",
    "#     le_ids = list(e[:2] for e in long_edges)\n",
    "\n",
    "#     # remove filtered edges from graph G\n",
    "#     G.remove_edges_from(le_ids)\n",
    "#     G.remove_nodes_from(list(nx.isolates(G)))"
   ]
  },
  {
   "cell_type": "code",
   "execution_count": 28,
   "metadata": {
    "collapsed": false,
    "pycharm": {
     "name": "#%%\n"
    }
   },
   "outputs": [
    {
     "name": "stdout",
     "output_type": "stream",
     "text": [
      "2099\n",
      "4551\n"
     ]
    }
   ],
   "source": [
    "graph_functions.less_connected_comunities(G,threshold = 5)\n",
    "print(len(G.nodes))\n",
    "print(len(G.edges))"
   ]
  },
  {
   "cell_type": "markdown",
   "metadata": {
    "collapsed": false,
    "pycharm": {
     "name": "#%% md\n"
    }
   },
   "source": [
    "## Detecting the communities"
   ]
  },
  {
   "cell_type": "code",
   "execution_count": 29,
   "metadata": {
    "collapsed": false,
    "pycharm": {
     "name": "#%%\n"
    }
   },
   "outputs": [],
   "source": [
    "import networkx.algorithms.community as nx_comm\n",
    "\n",
    "comm = nx_comm.louvain_communities(G, resolution=1, seed=123)\n",
    "\n",
    "# take only the communities that are larger than 5\n",
    "communities = [community for community in comm if len(community) > 5]"
   ]
  },
  {
   "cell_type": "code",
   "execution_count": 30,
   "metadata": {
    "collapsed": false,
    "pycharm": {
     "name": "#%%\n"
    }
   },
   "outputs": [],
   "source": [
    "# def given_hashtag_return_community(hashtags, communities = communities):\n",
    "#     for hashtag in set(hashtags):\n",
    "#         for community in communities:\n",
    "#             if hashtag in community:\n",
    "#                 return communities.index(community)"
   ]
  },
  {
   "cell_type": "markdown",
   "metadata": {
    "collapsed": false,
    "pycharm": {
     "name": "#%% md\n"
    }
   },
   "source": [
    "`labels` is the matrix that contains the community identification for each tweet"
   ]
  },
  {
   "cell_type": "code",
   "execution_count": 32,
   "metadata": {
    "collapsed": false,
    "pycharm": {
     "name": "#%%\n"
    }
   },
   "outputs": [],
   "source": [
    "# def create_labels_matrix(df1_aggr):\n",
    "#     #Initialize the labels matrix \n",
    "#     labels = [[] for x in range(0, len(df1_lemmatized))]\n",
    "#     for id, row in df1_aggr.iterrows():\n",
    "#         community_index = graph_functions.given_hashtag_return_community(row['hashtag'])\n",
    "#         if community_index:\n",
    "#             labels[id].append(community_index)\n",
    "#     return labels"
   ]
  },
  {
   "cell_type": "code",
   "execution_count": null,
   "metadata": {},
   "outputs": [],
   "source": [
    "labels = graph_functions.create_labels_matrix(df1_aggr)"
   ]
  },
  {
   "cell_type": "markdown",
   "metadata": {
    "collapsed": false,
    "pycharm": {
     "name": "#%% md\n"
    }
   },
   "source": [
    "# TOPIC MODELING"
   ]
  },
  {
   "cell_type": "markdown",
   "metadata": {},
   "source": [
    "### TSNMF"
   ]
  },
  {
   "cell_type": "code",
   "execution_count": 35,
   "metadata": {
    "collapsed": false,
    "pycharm": {
     "name": "#%%\n"
    }
   },
   "outputs": [],
   "source": [
    "from tsnmf import TSNMF\n",
    "\n",
    "n_components = len(communities)\n",
    "tsnmf = TSNMF(n_components=n_components, random_state=1)\n",
    "W = tsnmf.fit(X, labels=labels) # document X topic_matrix\n",
    "# H = tsnmf.components_"
   ]
  },
  {
   "cell_type": "code",
   "execution_count": 36,
   "metadata": {
    "collapsed": false,
    "pycharm": {
     "name": "#%%\n"
    }
   },
   "outputs": [],
   "source": [
    "# def plot_top_words(model, feature_names, n_top_words, title):\n",
    "#     fig, axes = plt.subplots(2, 5, figsize=(30, 15), sharex=True)\n",
    "#     axes = axes.flatten()\n",
    "#     for topic_idx, topic in enumerate(model.components_):\n",
    "#         top_features_ind = topic.argsort()[: -n_top_words - 1 : -1]\n",
    "#         top_features = [feature_names[i] for i in top_features_ind]\n",
    "#         weights = topic[top_features_ind]\n",
    "\n",
    "#         ax = axes[topic_idx]\n",
    "#         ax.barh(top_features, weights, height=0.7)\n",
    "#         ax.set_title(f\"Topic {topic_idx +1}\", fontdict={\"fontsize\": 30})\n",
    "#         ax.invert_yaxis()\n",
    "#         ax.tick_params(axis=\"both\", which=\"major\", labelsize=20)\n",
    "#         for i in \"top right left\".split():\n",
    "#             ax.spines[i].set_visible(False)\n",
    "#         fig.suptitle(title, fontsize=40)\n",
    "\n",
    "#     plt.subplots_adjust(top=0.90, bottom=0.05, wspace=0.90, hspace=0.3)\n",
    "#     plt.show()"
   ]
  },
  {
   "cell_type": "markdown",
   "metadata": {
    "collapsed": false,
    "pycharm": {
     "name": "#%% md\n"
    }
   },
   "source": [
    "Below we plot the words that most represent each topic"
   ]
  },
  {
   "cell_type": "code",
   "execution_count": null,
   "metadata": {
    "collapsed": false,
    "pycharm": {
     "name": "#%%\n"
    }
   },
   "outputs": [],
   "source": [
    "feat_names = vectorizer.get_feature_names_out()\n",
    "n_top_words = 10\n",
    "plot_top_words(tsnmf, feat_names, n_top_words, 'Topics')"
   ]
  },
  {
   "cell_type": "markdown",
   "metadata": {},
   "source": [
    "## LDA"
   ]
  },
  {
   "cell_type": "code",
   "execution_count": null,
   "metadata": {
    "collapsed": false,
    "pycharm": {
     "name": "#%%\n"
    }
   },
   "outputs": [],
   "source": [
    "from sklearn.decomposition import LatentDirichletAllocation\n",
    "\n",
    "lda = LatentDirichletAllocation(n_components = n_components,\n",
    "                                random_state=1,\n",
    "                                verbose=7,\n",
    "                                n_jobs=12)\n",
    "\n",
    "res_lda = lda.fit(X)"
   ]
  },
  {
   "cell_type": "code",
   "execution_count": 39,
   "metadata": {
    "collapsed": false,
    "pycharm": {
     "name": "#%%\n"
    }
   },
   "outputs": [
    {
     "ename": "IndexError",
     "evalue": "index 10 is out of bounds for axis 0 with size 10",
     "output_type": "error",
     "traceback": [
      "\u001b[0;31m---------------------------------------------------------------------------\u001b[0m",
      "\u001b[0;31mIndexError\u001b[0m                                Traceback (most recent call last)",
      "Input \u001b[0;32mIn [39]\u001b[0m, in \u001b[0;36m<cell line: 3>\u001b[0;34m()\u001b[0m\n\u001b[1;32m      1\u001b[0m feat_names \u001b[38;5;241m=\u001b[39m vectorizer\u001b[38;5;241m.\u001b[39mget_feature_names_out()\n\u001b[1;32m      2\u001b[0m n_top_words \u001b[38;5;241m=\u001b[39m \u001b[38;5;241m10\u001b[39m\n\u001b[0;32m----> 3\u001b[0m \u001b[43mplot_top_words\u001b[49m\u001b[43m(\u001b[49m\u001b[43mres_lda\u001b[49m\u001b[43m,\u001b[49m\u001b[43m \u001b[49m\u001b[43mfeat_names\u001b[49m\u001b[43m,\u001b[49m\u001b[43m \u001b[49m\u001b[43mn_top_words\u001b[49m\u001b[43m,\u001b[49m\u001b[43m \u001b[49m\u001b[38;5;124;43m'\u001b[39;49m\u001b[38;5;124;43mTopics\u001b[39;49m\u001b[38;5;124;43m'\u001b[39;49m\u001b[43m)\u001b[49m\n",
      "Input \u001b[0;32mIn [36]\u001b[0m, in \u001b[0;36mplot_top_words\u001b[0;34m(model, feature_names, n_top_words, title)\u001b[0m\n\u001b[1;32m      8\u001b[0m top_features \u001b[38;5;241m=\u001b[39m [feature_names[i] \u001b[38;5;28;01mfor\u001b[39;00m i \u001b[38;5;129;01min\u001b[39;00m top_features_ind]\n\u001b[1;32m      9\u001b[0m weights \u001b[38;5;241m=\u001b[39m topic[top_features_ind]\n\u001b[0;32m---> 11\u001b[0m ax \u001b[38;5;241m=\u001b[39m \u001b[43maxes\u001b[49m\u001b[43m[\u001b[49m\u001b[43mtopic_idx\u001b[49m\u001b[43m]\u001b[49m\n\u001b[1;32m     12\u001b[0m ax\u001b[38;5;241m.\u001b[39mbarh(top_features, weights, height\u001b[38;5;241m=\u001b[39m\u001b[38;5;241m0.7\u001b[39m)\n\u001b[1;32m     13\u001b[0m ax\u001b[38;5;241m.\u001b[39mset_title(\u001b[38;5;124mf\u001b[39m\u001b[38;5;124m\"\u001b[39m\u001b[38;5;124mTopic \u001b[39m\u001b[38;5;132;01m{\u001b[39;00mtopic_idx \u001b[38;5;241m+\u001b[39m\u001b[38;5;241m1\u001b[39m\u001b[38;5;132;01m}\u001b[39;00m\u001b[38;5;124m\"\u001b[39m, fontdict\u001b[38;5;241m=\u001b[39m{\u001b[38;5;124m\"\u001b[39m\u001b[38;5;124mfontsize\u001b[39m\u001b[38;5;124m\"\u001b[39m: \u001b[38;5;241m30\u001b[39m})\n",
      "\u001b[0;31mIndexError\u001b[0m: index 10 is out of bounds for axis 0 with size 10"
     ]
    },
    {
     "data": {
      "image/png": "[encoded data removed]",
      "text/plain": [
       "<Figure size 2160x1080 with 10 Axes>"
      ]
     },
     "metadata": {
      "needs_background": "light"
     },
     "output_type": "display_data"
    }
   ],
   "source": [
    "feat_names = vectorizer.get_feature_names_out()\n",
    "n_top_words = 10\n",
    "plot_top_words(res_lda, feat_names, n_top_words, 'Topics')"
   ]
  },
  {
   "cell_type": "markdown",
   "metadata": {
    "collapsed": false,
    "pycharm": {
     "name": "#%% md\n"
    }
   },
   "source": [
    "### WordClouds"
   ]
  },
  {
   "cell_type": "code",
   "execution_count": null,
   "metadata": {
    "collapsed": false,
    "pycharm": {
     "name": "#%%\n"
    }
   },
   "outputs": [],
   "source": [
    "feat_names = vectorizer.get_feature_names_out()\n",
    "\n",
    "list(get_weighted_words_topic(lda, feat_names))"
   ]
  },
  {
   "cell_type": "code",
   "execution_count": 110,
   "metadata": {
    "collapsed": false,
    "pycharm": {
     "name": "#%%\n"
    }
   },
   "outputs": [],
   "source": [
    "# def get_weighted_words_topic(model, feature_names, n_top_words = 20):\n",
    "\n",
    "#     for topic_idx, topic in enumerate(model.components_):\n",
    "#         top_features_ind = topic.argsort()[: -n_top_words - 1 : -1]\n",
    "#         top_features = [feature_names[i] for i in top_features_ind]\n",
    "#         weights = topic[top_features_ind]\n",
    "\n",
    "#         weighted_words = dict(zip(top_features, weights))\n",
    "\n",
    "#         yield weighted_words\n",
    "\n",
    "# def plot_word_cloud(weighted_words):\n",
    "\n",
    "#     wordcloud = WordCloud(width = 800, height = 800,\n",
    "#                           background_color ='white',\n",
    "#                           min_font_size = 10).generate_from_frequencies(weighted_words)\n",
    "\n",
    "#     plt.figure(figsize = (8, 8), facecolor = None)\n",
    "#     plt.imshow(wordcloud)\n",
    "#     plt.axis(\"off\")\n",
    "#     plt.tight_layout(pad = 0)\n",
    "\n",
    "#     plt.show()"
   ]
  },
  {
   "cell_type": "code",
   "execution_count": null,
   "metadata": {
    "collapsed": false,
    "pycharm": {
     "name": "#%%\n"
    }
   },
   "outputs": [],
   "source": [
    "for i in Utilities.get_weighted_words_topic(model, feature_names, n_top_words = 20):\n",
    "    Utilities.plot_word_cloud(i)\n",
    "    break"
   ]
  },
  {
   "cell_type": "markdown",
   "metadata": {
    "collapsed": false,
    "pycharm": {
     "name": "#%% md\n"
    }
   },
   "source": [
    "# Extract tweet with topics"
   ]
  },
  {
   "cell_type": "code",
   "execution_count": null,
   "metadata": {},
   "outputs": [],
   "source": [
    "def add_topic_label(topic_matrix, df):\n",
    "\n",
    "    df_topic_matrix = pd.DataFrame(topic_matrix)\n",
    "    df_topic_matrix['Max'] = df_topic_matrix[df_topic_matrix.columns].idxmax(axis = 1)\n",
    "    df['Max'] = df_topic_matrix['Max']\n",
    "\n",
    "    return df1\n",
    "\n",
    "def filter_by_topic(df, topic_number: float):\n",
    "    return df[df['Max'] == topic_number]"
   ]
  },
  {
   "cell_type": "code",
   "execution_count": null,
   "metadata": {
    "collapsed": false,
    "pycharm": {
     "name": "#%%\n"
    }
   },
   "outputs": [],
   "source": [
    "lda_topic_matrix = lda.transform(X)\n",
    "df1_topic = add_topic_label(lda_topic_matrix, df1_lemmatized)"
   ]
  },
  {
   "cell_type": "markdown",
   "metadata": {},
   "source": [
    "#### TOPICS:\n",
    "- 2.0 : Inflation\n",
    "- 12.0 : Financial market, trading\n",
    "- 18.0 : Oil / Energy\n",
    "- 26.0 : Bitcoin\n",
    "- 30.0 : Real Estate"
   ]
  },
  {
   "cell_type": "code",
   "execution_count": null,
   "metadata": {},
   "outputs": [],
   "source": [
    "# CREATE THE DF FILTERED BY TOPICS FOR THE MEN OF THE STREET\n",
    "df_inflation_men = filter_by_topic(df1_topic, 2.0) \n",
    "df_financial_men = filter_by_topic(df1_topic, 12.0) \n",
    "df_energy_men = filter_by_topic(df1_topic, 18.0) \n",
    "df_bitcoin_men= filter_by_topic(df1_topic, 26.0) \n",
    "df_real_estate_men = filter_by_topic(df1_topic, 30.0) "
   ]
  },
  {
   "cell_type": "code",
   "execution_count": null,
   "metadata": {},
   "outputs": [],
   "source": [
    "df_inflation_men.to_csv('df_inflation_men.csv')\n",
    "df_financial_men.to_csv('df_financial_men.csv')\n",
    "df_energy_men.to_csv('df_energy_men.csv') \n",
    "df_bitcoin_men.to_csv('df_bitcoin_men.csv')\n",
    "df_real_estate_men.to_csv('df_real_estate_men.csv')"
   ]
  },
  {
   "cell_type": "code",
   "execution_count": null,
   "metadata": {},
   "outputs": [],
   "source": [
    "# CREATE THE DF FILTERED BY TOPICS FOR THE PROFESSIONALS\n",
    "df_inflation_experts = filter_by_topic(df1_topic, 2.0) \n",
    "df_financial_experts = filter_by_topic(df1_topic, 12.0) \n",
    "df_energy_experts = filter_by_topic(df1_topic, 18.0) \n",
    "df_bitcoin_experts = filter_by_topic(df1_topic, 26.0) \n",
    "df_real_estate_experts = filter_by_topic(df1_topic, 30.0) "
   ]
  },
  {
   "cell_type": "code",
   "execution_count": null,
   "metadata": {},
   "outputs": [],
   "source": [
    "df_inflation_experts.to_csv('df_inflation_experts.csv')\n",
    "df_financial_experts.to_csv('df_financial_experts.csv')\n",
    "df_energy_experts.to_csv('df_energy_experts.csv') \n",
    "df_bitcoin_experts.to_csv('df_bitcoin_experts.csv')\n",
    "df_real_estate_experts.to_csv('df_real_estate_experts.csv')"
   ]
  }
 ],
 "metadata": {
  "kernelspec": {
   "display_name": "Python 3.9.1 64-bit",
   "language": "python",
   "name": "python3"
  },
  "language_info": {
   "codemirror_mode": {
    "name": "ipython",
    "version": 2
   },
   "file_extension": ".py",
   "mimetype": "text/x-python",
   "name": "python",
   "nbconvert_exporter": "python",
   "pygments_lexer": "ipython2",
   "version": "3.9.1"
  },
  "vscode": {
   "interpreter": {
    "hash": "a8de014130fe1285dee42499d552f2475fc25cf8d180624795f3eecd830d000f"
   }
  }
 },
 "nbformat": 4,
 "nbformat_minor": 0
}
